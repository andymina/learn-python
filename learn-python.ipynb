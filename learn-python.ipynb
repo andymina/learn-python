{
 "cells": [
  {
   "cell_type": "markdown",
   "id": "fd99a27c",
   "metadata": {
    "heading_collapsed": true
   },
   "source": [
    "# Strings\n",
    "\n",
    "Strings are immutable, ordered representations of text. *Note:* since strings are immutable `+=` is very expensive."
   ]
  },
  {
   "cell_type": "markdown",
   "id": "b201ad73",
   "metadata": {
    "heading_collapsed": true,
    "hidden": true
   },
   "source": [
    "##  String Formatting Functions"
   ]
  },
  {
   "cell_type": "markdown",
   "id": "d98f1e9c",
   "metadata": {
    "hidden": true
   },
   "source": [
    "Formatted strings work similar to template strings in ES6."
   ]
  },
  {
   "cell_type": "code",
   "execution_count": 32,
   "id": "7af808a4",
   "metadata": {
    "hidden": true
   },
   "outputs": [
    {
     "data": {
      "text/plain": [
       "'Hello, world!'"
      ]
     },
     "execution_count": 32,
     "metadata": {},
     "output_type": "execute_result"
    }
   ],
   "source": [
    "msg = \"Hello, world!\"\n",
    "f'{msg}'"
   ]
  },
  {
   "cell_type": "markdown",
   "id": "2a9e399a",
   "metadata": {
    "hidden": true
   },
   "source": [
    "`.strip()` removes leading and trailing whitespace."
   ]
  },
  {
   "cell_type": "code",
   "execution_count": 2,
   "id": "ebf327b8",
   "metadata": {
    "hidden": true
   },
   "outputs": [
    {
     "data": {
      "text/plain": [
       "'Hello, world!'"
      ]
     },
     "execution_count": 2,
     "metadata": {},
     "output_type": "execute_result"
    }
   ],
   "source": [
    "msg = \"   Hello, world!   \"\n",
    "msg.strip()"
   ]
  },
  {
   "cell_type": "markdown",
   "id": "563782c4",
   "metadata": {
    "hidden": true
   },
   "source": [
    "`.replace(old, new)` returns a new string where all occurences of `old` are replaced with `new`."
   ]
  },
  {
   "cell_type": "code",
   "execution_count": 3,
   "id": "f31eed53",
   "metadata": {
    "hidden": true
   },
   "outputs": [
    {
     "data": {
      "text/plain": [
       "'   HeLLo, worLd!   '"
      ]
     },
     "execution_count": 3,
     "metadata": {},
     "output_type": "execute_result"
    }
   ],
   "source": [
    "msg.replace('l', 'L')"
   ]
  },
  {
   "cell_type": "markdown",
   "id": "7ddbf9af",
   "metadata": {
    "hidden": true
   },
   "source": [
    "`.upper()` converts every character to upper-case. `.lower()` converts every character to lower. `.title()` capitalizes every word. `.capitalize()` makes the first word capital."
   ]
  },
  {
   "cell_type": "code",
   "execution_count": 4,
   "id": "31e16d5a",
   "metadata": {
    "hidden": true
   },
   "outputs": [
    {
     "name": "stdout",
     "output_type": "stream",
     "text": [
      "upper: HELLO, WORLD!\n",
      "lower: hello, world!\n",
      "title: Hello, World!\n",
      "capitalize: Hello, world!\n"
     ]
    }
   ],
   "source": [
    "msg = \"HeLlO, wOrLd!\"\n",
    "\n",
    "print(f\"upper: {msg.upper()}\")\n",
    "print(f\"lower: {msg.lower()}\")\n",
    "print(f\"title: {msg.title()}\")\n",
    "print(f\"capitalize: {msg.capitalize()}\")"
   ]
  },
  {
   "cell_type": "markdown",
   "id": "98fd9d25",
   "metadata": {
    "hidden": true
   },
   "source": [
    "## Accessing"
   ]
  },
  {
   "cell_type": "markdown",
   "id": "a03cf74f",
   "metadata": {
    "hidden": true
   },
   "source": [
    "`.index()` returns the index of the first occurence of the string passed. If the string isn't found, a `ValueError` is thrown."
   ]
  },
  {
   "cell_type": "code",
   "execution_count": 5,
   "id": "4a85f614",
   "metadata": {
    "hidden": true
   },
   "outputs": [
    {
     "data": {
      "text/plain": [
       "7"
      ]
     },
     "execution_count": 5,
     "metadata": {},
     "output_type": "execute_result"
    }
   ],
   "source": [
    "msg = 'Hello, world!'\n",
    "msg.index('w')"
   ]
  },
  {
   "cell_type": "markdown",
   "id": "06f68384",
   "metadata": {
    "hidden": true
   },
   "source": [
    "Similar to `.index()`, `.find()` returns the index of the first occurence of the string passeed. However, if the string isn't found it returns `-1`."
   ]
  },
  {
   "cell_type": "code",
   "execution_count": 6,
   "id": "d824ce78",
   "metadata": {
    "hidden": true
   },
   "outputs": [
    {
     "data": {
      "text/plain": [
       "-1"
      ]
     },
     "execution_count": 6,
     "metadata": {},
     "output_type": "execute_result"
    }
   ],
   "source": [
    "msg.find('a')"
   ]
  },
  {
   "cell_type": "markdown",
   "id": "674bd7f6",
   "metadata": {
    "hidden": true
   },
   "source": [
    "Brackets work the same as usual for indexing. Brackets can also use negative indexing to get the end of a list. Brackets can also be used to return substrings, *[begin, end, step = 1)*. If `begin` or `end` is omitted, it means until limit."
   ]
  },
  {
   "cell_type": "code",
   "execution_count": 7,
   "id": "d157e419",
   "metadata": {
    "hidden": true
   },
   "outputs": [
    {
     "name": "stdout",
     "output_type": "stream",
     "text": [
      "Hel\n",
      "Hello, world!\n",
      "!\n",
      "!dlrow ,olleH\n"
     ]
    }
   ],
   "source": [
    "print(msg[:3]) # beginning up until 3rd index\n",
    "print(msg[:]) # copies a whole string\n",
    "print(msg[-1]) # last character\n",
    "print(msg[::-1]) # reverses a string"
   ]
  },
  {
   "cell_type": "markdown",
   "id": "40af58a8",
   "metadata": {
    "hidden": true
   },
   "source": [
    "## General Functions"
   ]
  },
  {
   "cell_type": "markdown",
   "id": "eb236136",
   "metadata": {
    "hidden": true
   },
   "source": [
    "`.count(str)` returns the number of times the passed string appears in the caller string."
   ]
  },
  {
   "cell_type": "code",
   "execution_count": 8,
   "id": "3e7c1142",
   "metadata": {
    "hidden": true
   },
   "outputs": [
    {
     "data": {
      "text/plain": [
       "3"
      ]
     },
     "execution_count": 8,
     "metadata": {},
     "output_type": "execute_result"
    }
   ],
   "source": [
    "msg.count('l')"
   ]
  },
  {
   "cell_type": "markdown",
   "id": "cbe75e2f",
   "metadata": {
    "hidden": true
   },
   "source": [
    "Since strings are iterables, `in` can be used to check for a char and loop through a string."
   ]
  },
  {
   "cell_type": "code",
   "execution_count": 9,
   "id": "3f037f5a",
   "metadata": {
    "hidden": true
   },
   "outputs": [
    {
     "name": "stdout",
     "output_type": "stream",
     "text": [
      "True\n"
     ]
    }
   ],
   "source": [
    "print('e' in msg)"
   ]
  },
  {
   "cell_type": "markdown",
   "id": "e89f4d0c",
   "metadata": {
    "hidden": true
   },
   "source": [
    "`.isdigit()`, `.isalpha()`, and `.isalnum()` are all must-know functions."
   ]
  },
  {
   "cell_type": "code",
   "execution_count": 1,
   "id": "0b32699b",
   "metadata": {
    "hidden": true
   },
   "outputs": [
    {
     "name": "stdout",
     "output_type": "stream",
     "text": [
      "True\n",
      "True\n",
      "False\n"
     ]
    }
   ],
   "source": [
    "name = \"Andy\"\n",
    "year = \"2021\"\n",
    "combo = \"Andy 2021\"\n",
    "\n",
    "print(name.isalpha())\n",
    "print(year.isdigit())\n",
    "print(combo.isalnum())"
   ]
  },
  {
   "cell_type": "markdown",
   "id": "bf197e10",
   "metadata": {
    "hidden": true
   },
   "source": [
    "`ord(c)` is used to get the char-code of a character. `chr(n)` turns that char-code back into a character."
   ]
  },
  {
   "cell_type": "code",
   "execution_count": 4,
   "id": "d03892b2",
   "metadata": {
    "hidden": true
   },
   "outputs": [
    {
     "name": "stdout",
     "output_type": "stream",
     "text": [
      "97 is the char-code for a\n",
      "a is the char for the char-code 97\n"
     ]
    }
   ],
   "source": [
    "code = ord('a')\n",
    "char = chr(code)\n",
    "\n",
    "print(f\"{code} is the char-code for {char}\")\n",
    "print(f\"{char} is the char for the char-code {code}\")"
   ]
  },
  {
   "cell_type": "markdown",
   "id": "025ecf56",
   "metadata": {
    "hidden": true
   },
   "source": [
    "## List-like Functions"
   ]
  },
  {
   "cell_type": "markdown",
   "id": "3c791633",
   "metadata": {
    "hidden": true
   },
   "source": [
    "Strings can be split into a list using `.split(delim = ' ')`. The default delimiter is any white-space character."
   ]
  },
  {
   "cell_type": "code",
   "execution_count": 10,
   "id": "f6f7bc71",
   "metadata": {
    "hidden": true
   },
   "outputs": [
    {
     "name": "stdout",
     "output_type": "stream",
     "text": [
      "['hi', 'my', 'name', 'is', 'andy']\n"
     ]
    }
   ],
   "source": [
    "words = 'hi my name is andy'.split()\n",
    "print(words)"
   ]
  },
  {
   "cell_type": "markdown",
   "id": "33002f38",
   "metadata": {
    "hidden": true
   },
   "source": [
    "`.join(list)` is used to concatenate a list of strings into a single string. The caller string is used as a delimiter."
   ]
  },
  {
   "cell_type": "code",
   "execution_count": 11,
   "id": "797ca16a",
   "metadata": {
    "hidden": true
   },
   "outputs": [
    {
     "data": {
      "text/plain": [
       "'hi-my-name-is-andy'"
      ]
     },
     "execution_count": 11,
     "metadata": {},
     "output_type": "execute_result"
    }
   ],
   "source": [
    "'-'.join(words)"
   ]
  },
  {
   "cell_type": "markdown",
   "id": "ae4b53fb",
   "metadata": {
    "hidden": true
   },
   "source": [
    "## Practice String Problems"
   ]
  },
  {
   "cell_type": "markdown",
   "id": "38467d62",
   "metadata": {
    "hidden": true
   },
   "source": [
    "### isUnique\n",
    "Implement an algorithm to determine if a string has all unique characters. What if you couldn't use additional DS's?"
   ]
  },
  {
   "cell_type": "markdown",
   "id": "8bf20d48",
   "metadata": {
    "hidden": true
   },
   "source": [
    "### Check Permutation\n",
    "\n",
    "Given two strings, write a method to decide if one is a permutation of the other."
   ]
  },
  {
   "cell_type": "markdown",
   "id": "e47f2fdc",
   "metadata": {
    "hidden": true
   },
   "source": [
    "### URLify\n",
    "\n",
    "Write a method to replace all spaces in a string with `%20`. You may assume that the string has sufficient space at the end to hold the additional characters and that you are given the \"true\" length of the string."
   ]
  },
  {
   "cell_type": "markdown",
   "id": "16606a29",
   "metadata": {
    "hidden": true
   },
   "source": [
    "### Palindrome Permutation\n",
    "\n",
    "Given a string, write a function to check if it is a permutation of a palindrome."
   ]
  },
  {
   "cell_type": "markdown",
   "id": "1777f820",
   "metadata": {
    "hidden": true
   },
   "source": [
    "### One Away\n",
    "\n",
    "There are three types of edits that can be performed on a string:\n",
    "\n",
    "1. insertion\n",
    "2. removal\n",
    "3. replacement.\n",
    "\n",
    "Given two strings, write a function to check if they are at most one edit away."
   ]
  },
  {
   "cell_type": "markdown",
   "id": "e7d03cc6",
   "metadata": {
    "hidden": true
   },
   "source": [
    "### String Compression\n",
    "\n",
    "\n",
    "Implement a method to perform basic string compression using the counts of repeated characters. If the compressed string would not be smaller than the original, return the original. You can assume the string only has letters."
   ]
  },
  {
   "cell_type": "markdown",
   "id": "2fd8a76b",
   "metadata": {
    "hidden": true
   },
   "source": [
    "## Solutions for Practice String Problems"
   ]
  },
  {
   "cell_type": "markdown",
   "id": "cb6e994f",
   "metadata": {
    "hidden": true
   },
   "source": [
    "### isUnique Solutio"
   ]
  },
  {
   "cell_type": "code",
   "execution_count": 5,
   "id": "5e18413f",
   "metadata": {
    "hidden": true
   },
   "outputs": [],
   "source": [
    "\"\"\"\n",
    "Additional data structure.\n",
    "O(n) time\n",
    "O(n) space\n",
    "\"\"\"\n",
    "def isUnique(s: str) -> bool:\n",
    "    seen = set()\n",
    "    \n",
    "    for c in s:\n",
    "        if c in seen:\n",
    "            return False\n",
    "        seen.add(c)\n",
    "    \n",
    "    return True\n",
    "\n",
    "\"\"\"\n",
    "No additional data structures\n",
    "O(n log n) time\n",
    "O(1) space\n",
    "\"\"\"\n",
    "def isUnique(s: str) -> bool:\n",
    "    s = sorted(s)\n",
    "    \n",
    "    for i in range(len(s_copy) - 1):\n",
    "        if s[i] == s[i + 1]:\n",
    "            return False\n",
    "        \n",
    "    return True"
   ]
  },
  {
   "cell_type": "markdown",
   "id": "011a8cdb",
   "metadata": {
    "heading_collapsed": true
   },
   "source": [
    "# Working with Numbers"
   ]
  },
  {
   "cell_type": "markdown",
   "id": "ce019e88",
   "metadata": {
    "hidden": true
   },
   "source": [
    "## `%` and `//` special cases"
   ]
  },
  {
   "cell_type": "markdown",
   "id": "f533a473",
   "metadata": {
    "hidden": true
   },
   "source": [
    "### The 'funkiness'\n",
    "\n",
    "`//` does integer division and returns the `floor()` of the result. Without it, we would get a float."
   ]
  },
  {
   "cell_type": "code",
   "execution_count": 12,
   "id": "fc60e9d9",
   "metadata": {
    "hidden": true
   },
   "outputs": [
    {
     "data": {
      "text/plain": [
       "2"
      ]
     },
     "execution_count": 12,
     "metadata": {},
     "output_type": "execute_result"
    }
   ],
   "source": [
    "12 // 5"
   ]
  },
  {
   "cell_type": "markdown",
   "id": "99141735",
   "metadata": {
    "hidden": true
   },
   "source": [
    "Returning the floor of the result can lead to some funky behavior since the answer isn't truncated towards 0 as it normally is in other languages. For example:"
   ]
  },
  {
   "cell_type": "code",
   "execution_count": 13,
   "id": "9f2cdcdc",
   "metadata": {
    "hidden": true
   },
   "outputs": [
    {
     "name": "stdout",
     "output_type": "stream",
     "text": [
      "2\n",
      "-3\n"
     ]
    }
   ],
   "source": [
    "# 5/2 = 2.5 -> truncate towards 0 -> 2\n",
    "print(5 // 2)\n",
    "# -5/2 = -2.5 -> floor(-2.5) -> -3\n",
    "print(-5 // 2)"
   ]
  },
  {
   "cell_type": "markdown",
   "id": "e7db8aca",
   "metadata": {
    "hidden": true
   },
   "source": [
    "This same funkiness shows up when using `%` with negative numbers."
   ]
  },
  {
   "cell_type": "code",
   "execution_count": 14,
   "id": "5b729c42",
   "metadata": {
    "hidden": true
   },
   "outputs": [
    {
     "name": "stdout",
     "output_type": "stream",
     "text": [
      "1\n",
      "9\n"
     ]
    }
   ],
   "source": [
    "# 1 % 10 = 1 - 10 * int(1/10) -> 1\n",
    "print(1 % 10)\n",
    "# -1/10 = 1 - 10 * floor(1/10) -> 9\n",
    "print(-1 % 10)"
   ]
  },
  {
   "cell_type": "markdown",
   "id": "8f2474a1",
   "metadata": {
    "hidden": true
   },
   "source": [
    "### Workaround"
   ]
  },
  {
   "cell_type": "markdown",
   "id": "d9021d9c",
   "metadata": {
    "hidden": true
   },
   "source": [
    "When dealing with potentially negative numbers for integer division, opt to use float division and cast to `int`."
   ]
  },
  {
   "cell_type": "code",
   "execution_count": 15,
   "id": "0e29ea85",
   "metadata": {
    "hidden": true
   },
   "outputs": [
    {
     "name": "stdout",
     "output_type": "stream",
     "text": [
      "-3\n",
      "-2\n"
     ]
    }
   ],
   "source": [
    "print(-5 // 2)\n",
    "print(int(-5 / 2))"
   ]
  },
  {
   "cell_type": "markdown",
   "id": "06dea23e",
   "metadata": {
    "hidden": true
   },
   "source": [
    "When dealing with potentially negative numbers in modulo, opt to use `math.fmod(a, b)` or `math.remainder(a, b)`."
   ]
  },
  {
   "cell_type": "code",
   "execution_count": 16,
   "id": "ed89ebec",
   "metadata": {
    "hidden": true
   },
   "outputs": [
    {
     "name": "stdout",
     "output_type": "stream",
     "text": [
      "9\n",
      "-1.0\n",
      "-1.0\n"
     ]
    }
   ],
   "source": [
    "from math import fmod, remainder\n",
    "print(-1 % 10)\n",
    "print(fmod(-1, 10))\n",
    "print(remainder(-1, 10))"
   ]
  },
  {
   "cell_type": "markdown",
   "id": "1b41e786",
   "metadata": {
    "hidden": true
   },
   "source": [
    "### Explanation"
   ]
  },
  {
   "cell_type": "markdown",
   "id": "a94c1420",
   "metadata": {
    "hidden": true
   },
   "source": [
    "`//` returns the floor of the result to maintain the mathematical relationship of integer division `a/b = q + r`. `%` is derived from this relationship by solving for `r`: `r = a - b * q`. Since this is integer division, `q = int(a/b)`. In both equations `r` is bounded by the interval `[0, b)` since it's the remainder."
   ]
  },
  {
   "cell_type": "markdown",
   "id": "dcee98bc",
   "metadata": {
    "hidden": true
   },
   "source": [
    "However, to make `//` and `%` work with negative numbers, Python opts for `q = floor(a/b)` instead of `q = int(a/b)` like other languages. The reason behind this decision and more about `%` and `//` funkiness can be found [here](http://python-history.blogspot.com/2010/08/why-pythons-integer-division-floors.html)."
   ]
  },
  {
   "cell_type": "markdown",
   "id": "021fd23b",
   "metadata": {
    "hidden": true
   },
   "source": [
    "## General Math Operators"
   ]
  },
  {
   "cell_type": "markdown",
   "id": "1badd5ae",
   "metadata": {
    "hidden": true
   },
   "source": [
    "`**` does exponents and is faster than `pow()`."
   ]
  },
  {
   "cell_type": "code",
   "execution_count": 17,
   "id": "296e9d53",
   "metadata": {
    "hidden": true
   },
   "outputs": [
    {
     "data": {
      "text/plain": [
       "8"
      ]
     },
     "execution_count": 17,
     "metadata": {},
     "output_type": "execute_result"
    }
   ],
   "source": [
    "2**3"
   ]
  },
  {
   "cell_type": "markdown",
   "id": "145ec1ab",
   "metadata": {
    "hidden": true
   },
   "source": [
    "`abs()` gives the absolute value of a num."
   ]
  },
  {
   "cell_type": "code",
   "execution_count": 18,
   "id": "95411e0b",
   "metadata": {
    "hidden": true
   },
   "outputs": [
    {
     "data": {
      "text/plain": [
       "5"
      ]
     },
     "execution_count": 18,
     "metadata": {},
     "output_type": "execute_result"
    }
   ],
   "source": [
    "abs(-5)"
   ]
  },
  {
   "cell_type": "markdown",
   "id": "58a2aec3",
   "metadata": {
    "hidden": true
   },
   "source": [
    "`max(a, b)` returns the max of two numbers. `min(a, b)` returns the min."
   ]
  },
  {
   "cell_type": "code",
   "execution_count": 19,
   "id": "1f516839",
   "metadata": {
    "hidden": true
   },
   "outputs": [
    {
     "name": "stdout",
     "output_type": "stream",
     "text": [
      "20\n",
      "10\n"
     ]
    }
   ],
   "source": [
    "print(max(10, 20))\n",
    "print(min(10, 20))"
   ]
  },
  {
   "cell_type": "markdown",
   "id": "31a322ba",
   "metadata": {
    "hidden": true
   },
   "source": [
    "`round()` rounds a float to the nearest int."
   ]
  },
  {
   "cell_type": "code",
   "execution_count": 20,
   "id": "33df3ea4",
   "metadata": {
    "hidden": true
   },
   "outputs": [
    {
     "data": {
      "text/plain": [
       "1"
      ]
     },
     "execution_count": 20,
     "metadata": {},
     "output_type": "execute_result"
    }
   ],
   "source": [
    "round(1.3)"
   ]
  },
  {
   "cell_type": "markdown",
   "id": "710e6a61",
   "metadata": {
    "hidden": true
   },
   "source": [
    "## `math` Module\n",
    "\n",
    "The following functions need to be imported from the math module."
   ]
  },
  {
   "cell_type": "markdown",
   "id": "ba2c21f8",
   "metadata": {
    "hidden": true
   },
   "source": [
    "`ceil()` always rounds a float up."
   ]
  },
  {
   "cell_type": "code",
   "execution_count": 21,
   "id": "3082482f",
   "metadata": {
    "hidden": true
   },
   "outputs": [
    {
     "data": {
      "text/plain": [
       "4"
      ]
     },
     "execution_count": 21,
     "metadata": {},
     "output_type": "execute_result"
    }
   ],
   "source": [
    "from math import ceil\n",
    "ceil(3.2)"
   ]
  },
  {
   "cell_type": "markdown",
   "id": "93743012",
   "metadata": {
    "hidden": true
   },
   "source": [
    "`floor()` always rounds a float down."
   ]
  },
  {
   "cell_type": "code",
   "execution_count": 22,
   "id": "98c01eac",
   "metadata": {
    "hidden": true
   },
   "outputs": [
    {
     "data": {
      "text/plain": [
       "3"
      ]
     },
     "execution_count": 22,
     "metadata": {},
     "output_type": "execute_result"
    }
   ],
   "source": [
    "from math import floor\n",
    "floor(3.7)"
   ]
  },
  {
   "cell_type": "markdown",
   "id": "64dd1a66",
   "metadata": {
    "hidden": true
   },
   "source": [
    "`sqrt()` returns the square root of a number as a float."
   ]
  },
  {
   "cell_type": "code",
   "execution_count": 23,
   "id": "921c825d",
   "metadata": {
    "hidden": true
   },
   "outputs": [
    {
     "data": {
      "text/plain": [
       "2.0"
      ]
     },
     "execution_count": 23,
     "metadata": {},
     "output_type": "execute_result"
    }
   ],
   "source": [
    "from math import sqrt\n",
    "sqrt(4)"
   ]
  },
  {
   "cell_type": "markdown",
   "id": "d3ddfd11",
   "metadata": {
    "heading_collapsed": true
   },
   "source": [
    "# Lists\n",
    "\n",
    "Lists can be ordered, are mutable, and allow for duplicate elements."
   ]
  },
  {
   "cell_type": "markdown",
   "id": "30f8a5e0",
   "metadata": {
    "hidden": true
   },
   "source": [
    "## Creating"
   ]
  },
  {
   "cell_type": "markdown",
   "id": "e9336009",
   "metadata": {
    "hidden": true
   },
   "source": [
    "To initialize a list, you can use list comprehension in various ways."
   ]
  },
  {
   "cell_type": "code",
   "execution_count": 24,
   "id": "a9287aa2",
   "metadata": {
    "hidden": true
   },
   "outputs": [
    {
     "name": "stdout",
     "output_type": "stream",
     "text": [
      "[0, 0, 0, 0, 0]\n"
     ]
    }
   ],
   "source": [
    "empty = [0] * 5\n",
    "print(empty)"
   ]
  },
  {
   "cell_type": "code",
   "execution_count": 25,
   "id": "c0bc8445",
   "metadata": {
    "hidden": true
   },
   "outputs": [
    {
     "name": "stdout",
     "output_type": "stream",
     "text": [
      "[1, 2, 3, 4, 5]\n",
      "[1, 4, 9, 16, 25]\n"
     ]
    }
   ],
   "source": [
    "numbers = [i for i in range(1,6)]\n",
    "print(numbers)\n",
    "\n",
    "squares = [x * x for x in numbers]\n",
    "print(squares)"
   ]
  },
  {
   "cell_type": "markdown",
   "id": "3cc799ed",
   "metadata": {
    "hidden": true
   },
   "source": [
    "## Accessing"
   ]
  },
  {
   "cell_type": "markdown",
   "id": "64cdefb0",
   "metadata": {
    "hidden": true
   },
   "source": [
    "Brackets work the same as usual for indexing. Brackets can also use negative indexing to get the end of a list. Brackets can also be used to return subarrays, *[begin, end, step = 1)*. If `begin` or `end` is omitted, it means until limit."
   ]
  },
  {
   "cell_type": "code",
   "execution_count": 26,
   "id": "6da874b6",
   "metadata": {
    "hidden": true
   },
   "outputs": [
    {
     "data": {
      "text/plain": [
       "['banana', 'apple']"
      ]
     },
     "execution_count": 26,
     "metadata": {},
     "output_type": "execute_result"
    }
   ],
   "source": [
    "fruits = ['banana', 'apple', 'orange']\n",
    "fruits[:2]"
   ]
  },
  {
   "cell_type": "markdown",
   "id": "1ee0595a",
   "metadata": {
    "hidden": true
   },
   "source": [
    "Brackets have an optional step index as well which decides which increment to use for indices."
   ]
  },
  {
   "cell_type": "code",
   "execution_count": 27,
   "id": "86bcf70f",
   "metadata": {
    "hidden": true
   },
   "outputs": [
    {
     "data": {
      "text/plain": [
       "['banana', 'orange']"
      ]
     },
     "execution_count": 27,
     "metadata": {},
     "output_type": "execute_result"
    }
   ],
   "source": [
    "fruits[::2]"
   ]
  },
  {
   "cell_type": "markdown",
   "id": "565b03d6",
   "metadata": {
    "hidden": true
   },
   "source": [
    "Similar to strings, `.index(item)` returns the index of the first occurence of *item* in the list. If the *item* isn't found, a `ValueError` is thrown."
   ]
  },
  {
   "cell_type": "code",
   "execution_count": 28,
   "id": "a0fc039f",
   "metadata": {
    "hidden": true
   },
   "outputs": [
    {
     "data": {
      "text/plain": [
       "1"
      ]
     },
     "execution_count": 28,
     "metadata": {},
     "output_type": "execute_result"
    }
   ],
   "source": [
    "fruits.index('apple')"
   ]
  },
  {
   "cell_type": "markdown",
   "id": "3202cb7c",
   "metadata": {
    "hidden": true
   },
   "source": [
    "To check for an item in a list in a conditional you can use `if ... in`."
   ]
  },
  {
   "cell_type": "code",
   "execution_count": 29,
   "id": "4a9ff6e9",
   "metadata": {
    "hidden": true
   },
   "outputs": [
    {
     "name": "stdout",
     "output_type": "stream",
     "text": [
      "Apple is in the list.\n"
     ]
    }
   ],
   "source": [
    "if 'apple' in fruits:\n",
    "    print('Apple is in the list.')"
   ]
  },
  {
   "cell_type": "markdown",
   "id": "f9db1b7d",
   "metadata": {
    "hidden": true
   },
   "source": [
    "## Inserting"
   ]
  },
  {
   "cell_type": "markdown",
   "id": "93fdc835",
   "metadata": {
    "hidden": true
   },
   "source": [
    "`.extend(list)` can append one list onto another. The `+` operator can also be used to achieve the same effect."
   ]
  },
  {
   "cell_type": "code",
   "execution_count": 30,
   "id": "0bb36e0c",
   "metadata": {
    "hidden": true
   },
   "outputs": [
    {
     "name": "stdout",
     "output_type": "stream",
     "text": [
      "['banana', 'apple', 'orange', 'yellow', 'red', 'orange']\n",
      "['banana', 'apple', 'orange', 'yellow', 'red', 'orange', 'green']\n"
     ]
    }
   ],
   "source": [
    "colors = ['yellow', 'red', 'orange']\n",
    "fruits.extend(colors)\n",
    "print(fruits)\n",
    "\n",
    "print(fruits + [\"green\"])"
   ]
  },
  {
   "cell_type": "markdown",
   "id": "377c9566",
   "metadata": {
    "hidden": true
   },
   "source": [
    "`.append(item)` is used to add an item at the end."
   ]
  },
  {
   "cell_type": "code",
   "execution_count": 31,
   "id": "14e815f1",
   "metadata": {
    "hidden": true
   },
   "outputs": [
    {
     "name": "stdout",
     "output_type": "stream",
     "text": [
      "['banana', 'apple', 'orange', 'grapes']\n"
     ]
    }
   ],
   "source": [
    "fruits = ['banana', 'apple', 'orange']\n",
    "fruits.append('grapes')\n",
    "print(fruits)"
   ]
  },
  {
   "cell_type": "markdown",
   "id": "5bf05e90",
   "metadata": {
    "hidden": true
   },
   "source": [
    "`.insert(idx, item)` is used to insert an item at the specified index."
   ]
  },
  {
   "cell_type": "code",
   "execution_count": 32,
   "id": "908d3abd",
   "metadata": {
    "hidden": true
   },
   "outputs": [
    {
     "name": "stdout",
     "output_type": "stream",
     "text": [
      "['banana', 'pear', 'apple', 'orange', 'grapes']\n"
     ]
    }
   ],
   "source": [
    "fruits.insert(1, 'pear')\n",
    "print(fruits)"
   ]
  },
  {
   "cell_type": "markdown",
   "id": "19c5ac18",
   "metadata": {
    "hidden": true
   },
   "source": [
    "## Removing"
   ]
  },
  {
   "cell_type": "markdown",
   "id": "175028b6",
   "metadata": {
    "hidden": true
   },
   "source": [
    "`.remove(item)` is used to remove an item from the list. If the element DNE, a `ValueError` is thrown."
   ]
  },
  {
   "cell_type": "code",
   "execution_count": 33,
   "id": "f7f84864",
   "metadata": {
    "hidden": true
   },
   "outputs": [
    {
     "name": "stdout",
     "output_type": "stream",
     "text": [
      "['banana', 'pear', 'apple', 'orange']\n"
     ]
    }
   ],
   "source": [
    "fruits.remove('grapes')\n",
    "print(fruits)"
   ]
  },
  {
   "cell_type": "markdown",
   "id": "e87944b8",
   "metadata": {
    "hidden": true
   },
   "source": [
    "`.pop()` removes the last item from the list and returns it."
   ]
  },
  {
   "cell_type": "code",
   "execution_count": 34,
   "id": "6f33497b",
   "metadata": {
    "hidden": true
   },
   "outputs": [
    {
     "data": {
      "text/plain": [
       "'orange'"
      ]
     },
     "execution_count": 34,
     "metadata": {},
     "output_type": "execute_result"
    }
   ],
   "source": [
    "fruits.pop()"
   ]
  },
  {
   "cell_type": "markdown",
   "id": "fd054cf9",
   "metadata": {
    "hidden": true
   },
   "source": [
    "`.clear()` empties and entire list."
   ]
  },
  {
   "cell_type": "code",
   "execution_count": 35,
   "id": "a5d8d93b",
   "metadata": {
    "hidden": true
   },
   "outputs": [
    {
     "name": "stdout",
     "output_type": "stream",
     "text": [
      "[]\n"
     ]
    }
   ],
   "source": [
    "fruits.clear()\n",
    "print(fruits)"
   ]
  },
  {
   "cell_type": "markdown",
   "id": "e0b8ff85",
   "metadata": {
    "hidden": true
   },
   "source": [
    "## General Functions"
   ]
  },
  {
   "cell_type": "markdown",
   "id": "f2aa3870",
   "metadata": {
    "hidden": true
   },
   "source": [
    "`.count(item)` returns the number of times *item* appears in the list."
   ]
  },
  {
   "cell_type": "code",
   "execution_count": 36,
   "id": "6ba4171b",
   "metadata": {
    "hidden": true
   },
   "outputs": [
    {
     "data": {
      "text/plain": [
       "2"
      ]
     },
     "execution_count": 36,
     "metadata": {},
     "output_type": "execute_result"
    }
   ],
   "source": [
    "fruits = ['banana', 'apple', 'orange']\n",
    "fruits.append('apple')\n",
    "fruits.count('apple')"
   ]
  },
  {
   "cell_type": "markdown",
   "id": "a04268ae",
   "metadata": {
    "hidden": true
   },
   "source": [
    "`.sort()` sorts the items of a list. It mutates the list. To avoid mutation and return a new list used the built-in `sorted()`."
   ]
  },
  {
   "cell_type": "code",
   "execution_count": 37,
   "id": "2b833bd3",
   "metadata": {
    "hidden": true
   },
   "outputs": [
    {
     "name": "stdout",
     "output_type": "stream",
     "text": [
      "['apple', 'apple', 'banana', 'orange']\n",
      "['banana', 'apple', 'orange', 'apple']\n"
     ]
    }
   ],
   "source": [
    "fruits_copy = fruits.copy()\n",
    "fruits.sort()\n",
    "print(fruits)\n",
    "print(fruits_copy)"
   ]
  },
  {
   "cell_type": "markdown",
   "id": "1d1d2179",
   "metadata": {
    "hidden": true
   },
   "source": [
    "`.reverse()` reverses a list."
   ]
  },
  {
   "cell_type": "code",
   "execution_count": 38,
   "id": "57ee4534",
   "metadata": {
    "hidden": true
   },
   "outputs": [
    {
     "name": "stdout",
     "output_type": "stream",
     "text": [
      "['orange', 'banana', 'apple', 'apple']\n"
     ]
    }
   ],
   "source": [
    "fruits.reverse()\n",
    "print(fruits)"
   ]
  },
  {
   "cell_type": "markdown",
   "id": "15fc9cbb",
   "metadata": {
    "hidden": true
   },
   "source": [
    "Lists can be shallow copied with `.copy()`. They can also be deep copied with `.deepcopy()` from the `copy` module."
   ]
  },
  {
   "cell_type": "code",
   "execution_count": 39,
   "id": "f0d29e00",
   "metadata": {
    "hidden": true
   },
   "outputs": [],
   "source": [
    "from copy import copy, deepcopy\n",
    "\n",
    "shallow = fruits.copy()\n",
    "deep = deepcopy(fruits)"
   ]
  },
  {
   "cell_type": "markdown",
   "id": "f377a47c",
   "metadata": {
    "heading_collapsed": true
   },
   "source": [
    "# Tuples\n",
    "\n",
    "Tuples are immutable, allow duplicate elements, and remain in their inserted order. They are generally used for data that's not going to be changed. They are defined with `()`."
   ]
  },
  {
   "cell_type": "code",
   "execution_count": 40,
   "id": "b938655c",
   "metadata": {
    "hidden": true
   },
   "outputs": [
    {
     "name": "stdout",
     "output_type": "stream",
     "text": [
      "(3,)\n"
     ]
    }
   ],
   "source": [
    "coordinates = (3, 4, 5)\n",
    "print(coordinates[:1])"
   ]
  },
  {
   "cell_type": "markdown",
   "id": "1259293e",
   "metadata": {
    "hidden": true
   },
   "source": [
    "Tuples can be unpacked and even converted into a list with the `*` operator."
   ]
  },
  {
   "cell_type": "code",
   "execution_count": 41,
   "id": "a5eaf13e",
   "metadata": {
    "hidden": true
   },
   "outputs": [
    {
     "name": "stdout",
     "output_type": "stream",
     "text": [
      "Andy\n",
      "['Richard', 'Carmen']\n",
      "Mina\n"
     ]
    }
   ],
   "source": [
    "person = (\"Andy\", \"Richard\", \"Carmen\", \"Mina\")\n",
    "first, *middle, last = person\n",
    "\n",
    "print(first)\n",
    "print(middle)\n",
    "print(last)"
   ]
  },
  {
   "cell_type": "markdown",
   "id": "68292f98",
   "metadata": {
    "hidden": true
   },
   "source": [
    "Since tuples are immutable, they take up less memory than lists."
   ]
  },
  {
   "cell_type": "code",
   "execution_count": 42,
   "id": "7b808925",
   "metadata": {
    "hidden": true
   },
   "outputs": [
    {
     "name": "stdout",
     "output_type": "stream",
     "text": [
      "list size: 120 bytes\n",
      "tup size: 64 bytes\n"
     ]
    }
   ],
   "source": [
    "import sys\n",
    "nums_list = [1, 2, 3]\n",
    "nums_tup = (1, 2, 3)\n",
    "\n",
    "print(f\"list size: {sys.getsizeof(nums_list)} bytes\")\n",
    "print(f\"tup size: {sys.getsizeof(nums_tup)} bytes\")"
   ]
  },
  {
   "cell_type": "markdown",
   "id": "41a33e58",
   "metadata": {},
   "source": [
    "# Dictionaries\n",
    "\n",
    "Data structure with `(key, value)` pairs similar to a hash-map. They do not allow duplicates."
   ]
  },
  {
   "cell_type": "markdown",
   "id": "e6f2a5dd",
   "metadata": {},
   "source": [
    "## Creating"
   ]
  },
  {
   "cell_type": "markdown",
   "id": "25f51951",
   "metadata": {},
   "source": [
    "Dictionaries can be created with `{}`. They can also be constructed with `dict(key = value, ...)`. Dictionaries can also be constructed using dictionary comprehension."
   ]
  },
  {
   "cell_type": "code",
   "execution_count": 43,
   "id": "b2fcfd27",
   "metadata": {},
   "outputs": [
    {
     "name": "stdout",
     "output_type": "stream",
     "text": [
      "{'Jan': 'January', 'Feb': 'February', 'Mar': 'March', 'Apr': 'April'}\n"
     ]
    }
   ],
   "source": [
    "months = {\n",
    "    \"Jan\": \"January\",\n",
    "    \"Feb\": \"February\",\n",
    "    \"Mar\": \"March\",\n",
    "    \"Apr\": \"April\"\n",
    "}\n",
    "print(months)"
   ]
  },
  {
   "cell_type": "markdown",
   "id": "470f5ff0",
   "metadata": {},
   "source": [
    "## Accessing"
   ]
  },
  {
   "cell_type": "markdown",
   "id": "dc661071",
   "metadata": {},
   "source": [
    "If the key doesn't exists, a `KeyError` will be raised."
   ]
  },
  {
   "cell_type": "code",
   "execution_count": 44,
   "id": "024f59d8",
   "metadata": {},
   "outputs": [
    {
     "name": "stdout",
     "output_type": "stream",
     "text": [
      "'May'\n"
     ]
    }
   ],
   "source": [
    "try:\n",
    "    val = months[\"May\"]\n",
    "except KeyError as err:\n",
    "    print(err)"
   ]
  },
  {
   "cell_type": "markdown",
   "id": "76533213",
   "metadata": {},
   "source": [
    "To check if the key exists in the dictionary, use `if ... in`."
   ]
  },
  {
   "cell_type": "code",
   "execution_count": 45,
   "id": "ee4ba332",
   "metadata": {},
   "outputs": [
    {
     "name": "stdout",
     "output_type": "stream",
     "text": [
      "May DNE.\n"
     ]
    }
   ],
   "source": [
    "if \"May\" not in months:\n",
    "    print(\"May DNE.\")"
   ]
  },
  {
   "cell_type": "markdown",
   "id": "dcb58e5c",
   "metadata": {},
   "source": [
    "## Iterating"
   ]
  },
  {
   "cell_type": "markdown",
   "id": "d9156b5a",
   "metadata": {},
   "source": [
    "`.keys()` returns a list of all of the keys in the dictionary that can be mutated. Updating the reference to `.keys()` will mutate the dictionary."
   ]
  },
  {
   "cell_type": "code",
   "execution_count": 46,
   "id": "62159695",
   "metadata": {},
   "outputs": [
    {
     "name": "stdout",
     "output_type": "stream",
     "text": [
      "dict_keys(['Jan', 'Feb', 'Mar', 'Apr', 'May'])\n"
     ]
    }
   ],
   "source": [
    "keys = months.keys()\n",
    "months[\"May\"] = \"May\"\n",
    "print(keys)"
   ]
  },
  {
   "cell_type": "markdown",
   "id": "3575d09c",
   "metadata": {},
   "source": [
    "`.values()` returns a list of all of the values in the dictionary that can be mutated. Updating the reference to `.values()` will mutate the dictionary."
   ]
  },
  {
   "cell_type": "code",
   "execution_count": 47,
   "id": "baeed489",
   "metadata": {},
   "outputs": [
    {
     "name": "stdout",
     "output_type": "stream",
     "text": [
      "dict_values(['January', 'February', 'March', 'April', 'May', 'June'])\n"
     ]
    }
   ],
   "source": [
    "values = months.values()\n",
    "months[\"June\"] = \"June\"\n",
    "print(values)"
   ]
  },
  {
   "cell_type": "markdown",
   "id": "3f2b4db3",
   "metadata": {},
   "source": [
    "`.items()` will return an immutable list of (key, value) tuples in the dictionary. This is typically how to loop through a dictionary."
   ]
  },
  {
   "cell_type": "code",
   "execution_count": 48,
   "id": "6b1f6d4c",
   "metadata": {},
   "outputs": [
    {
     "name": "stdout",
     "output_type": "stream",
     "text": [
      "Jan January\n",
      "Feb February\n",
      "Mar March\n",
      "Apr April\n",
      "May May\n",
      "June June\n"
     ]
    }
   ],
   "source": [
    "for (k, v) in months.items():\n",
    "    print(k, v)"
   ]
  },
  {
   "cell_type": "markdown",
   "id": "c0cb8f71",
   "metadata": {},
   "source": [
    "## Adding"
   ]
  },
  {
   "cell_type": "markdown",
   "id": "d358697d",
   "metadata": {},
   "source": [
    "Dictionaries can be merged with another dictionary using `.update(dict)`. Merging can also be achieved with `a | b` (or in-place by using `=`)."
   ]
  },
  {
   "cell_type": "code",
   "execution_count": 49,
   "id": "6c648487",
   "metadata": {},
   "outputs": [
    {
     "name": "stdout",
     "output_type": "stream",
     "text": [
      "dict_keys(['Jan', 'Feb', 'Mar', 'Apr', 'May', 'June', 'July', 'Aug', 'Sept', 'Oct', 'Nov', 'Dec'])\n"
     ]
    }
   ],
   "source": [
    "more_months = {\n",
    "    \"July\": \"July\",\n",
    "    \"Aug\": \"August\",\n",
    "    \"Sept\": \"September\",\n",
    "    \"Oct\": \"October\",\n",
    "    \"Nov\": \"November\",\n",
    "    \"Dec\": \"December\"\n",
    "}\n",
    "months.update(more_months)\n",
    "print(months.keys())"
   ]
  },
  {
   "cell_type": "markdown",
   "id": "a3c12ef9",
   "metadata": {},
   "source": [
    "## Removing"
   ]
  },
  {
   "cell_type": "markdown",
   "id": "6f80235c",
   "metadata": {},
   "source": [
    "Items can be removed from the dictionary in three ways:"
   ]
  },
  {
   "cell_type": "markdown",
   "id": "4ec78d2b",
   "metadata": {},
   "source": [
    "1. `del` - removes the item by reference\n",
    "2. `.pop(key)` - removes the item by key and returns the value that was removed)\n",
    "3. `.popitem()` - removes the last inserted item and returns the tuple that was removed)"
   ]
  },
  {
   "cell_type": "code",
   "execution_count": 50,
   "id": "77ffc060",
   "metadata": {},
   "outputs": [
    {
     "name": "stdout",
     "output_type": "stream",
     "text": [
      "dict_keys(['Jan', 'Feb', 'Mar', 'Apr', 'May', 'June', 'July', 'Aug', 'Sept', 'Oct', 'Nov', 'Dec', 'Andy'])\n",
      "dict_keys(['Jan', 'Feb', 'Mar', 'Apr', 'May', 'June', 'July', 'Aug', 'Sept', 'Oct', 'Nov', 'Dec'])\n"
     ]
    }
   ],
   "source": [
    "keys = months.keys()\n",
    "months[\"Andy\"] = \"Mina\"\n",
    "print(keys)\n",
    "\n",
    "del months[\"Andy\"]\n",
    "print(keys)"
   ]
  },
  {
   "cell_type": "code",
   "execution_count": 51,
   "id": "87ca12e6",
   "metadata": {},
   "outputs": [
    {
     "name": "stdout",
     "output_type": "stream",
     "text": [
      "dict_keys(['Jan', 'Feb', 'Mar', 'Apr', 'May', 'June', 'July', 'Aug', 'Sept', 'Oct', 'Nov', 'Dec', 'Andy'])\n",
      "dict_keys(['Jan', 'Feb', 'Mar', 'Apr', 'May', 'June', 'July', 'Aug', 'Sept', 'Oct', 'Nov', 'Dec'])\n",
      "Mina was removed\n"
     ]
    }
   ],
   "source": [
    "keys = months.keys()\n",
    "months[\"Andy\"] = \"Mina\"\n",
    "print(keys)\n",
    "\n",
    "removed = months.pop(\"Andy\")\n",
    "print(keys)\n",
    "print(f\"{removed} was removed\")"
   ]
  },
  {
   "cell_type": "code",
   "execution_count": 52,
   "id": "090aebfa",
   "metadata": {},
   "outputs": [
    {
     "name": "stdout",
     "output_type": "stream",
     "text": [
      "dict_keys(['Jan', 'Feb', 'Mar', 'Apr', 'May', 'June', 'July', 'Aug', 'Sept', 'Oct', 'Nov', 'Dec', 'Andy'])\n",
      "dict_keys(['Jan', 'Feb', 'Mar', 'Apr', 'May', 'June', 'July', 'Aug', 'Sept', 'Oct', 'Nov', 'Dec'])\n",
      "('Andy', 'Mina') was removed\n"
     ]
    }
   ],
   "source": [
    "keys = months.keys()\n",
    "months[\"Andy\"] = \"Mina\"\n",
    "print(keys)\n",
    "\n",
    "removed = months.popitem()\n",
    "print(keys)\n",
    "print(f\"{removed} was removed\")"
   ]
  },
  {
   "cell_type": "markdown",
   "id": "227f9d2f",
   "metadata": {},
   "source": [
    "Dictionaries can be cleared with `.clear()`."
   ]
  },
  {
   "cell_type": "code",
   "execution_count": 53,
   "id": "cba47cb4",
   "metadata": {},
   "outputs": [
    {
     "name": "stdout",
     "output_type": "stream",
     "text": [
      "{}\n"
     ]
    }
   ],
   "source": [
    "months.clear()\n",
    "print(months)"
   ]
  },
  {
   "cell_type": "markdown",
   "id": "e384cd52",
   "metadata": {},
   "source": [
    "# Sets\n",
    "\n",
    "Sets are unordered, mutable, and don't allow for duplicates."
   ]
  },
  {
   "cell_type": "markdown",
   "id": "6f759377",
   "metadata": {},
   "source": [
    "## Creating\n",
    "\n",
    "They are made with `{items}`. Simply using `{}` to create an empty will create a dictionary. They can be constructued from an iterable with `set(iter)`. Sets can also be constructed using set comprehension."
   ]
  },
  {
   "cell_type": "code",
   "execution_count": 54,
   "id": "7430ba6a",
   "metadata": {},
   "outputs": [
    {
     "name": "stdout",
     "output_type": "stream",
     "text": [
      "{1, 2, 3}\n"
     ]
    }
   ],
   "source": [
    "nums = set([1, 2, 3])\n",
    "print(nums)"
   ]
  },
  {
   "cell_type": "markdown",
   "id": "aaf4e69a",
   "metadata": {},
   "source": [
    "## Accessing"
   ]
  },
  {
   "cell_type": "markdown",
   "id": "9cbc995c",
   "metadata": {},
   "source": [
    "Just like dictionaries, checking if an item is in the set uses `in`."
   ]
  },
  {
   "cell_type": "code",
   "execution_count": 55,
   "id": "5f4f2827",
   "metadata": {},
   "outputs": [
    {
     "name": "stdout",
     "output_type": "stream",
     "text": [
      "True\n"
     ]
    }
   ],
   "source": [
    "print(3 in nums)"
   ]
  },
  {
   "cell_type": "markdown",
   "id": "5762e611",
   "metadata": {},
   "source": [
    "## Adding and Removing"
   ]
  },
  {
   "cell_type": "markdown",
   "id": "ab66a0dc",
   "metadata": {},
   "source": [
    "`.add(item)` adds the item to the set."
   ]
  },
  {
   "cell_type": "code",
   "execution_count": 56,
   "id": "b60a9cc0",
   "metadata": {},
   "outputs": [
    {
     "name": "stdout",
     "output_type": "stream",
     "text": [
      "{1, 2, 3, 4}\n"
     ]
    }
   ],
   "source": [
    "nums.add(4)\n",
    "print(nums)"
   ]
  },
  {
   "cell_type": "markdown",
   "id": "56645373",
   "metadata": {},
   "source": [
    "Elements can be removed with `.remove(item)`. If the item DNE, a KeyError will be raised."
   ]
  },
  {
   "cell_type": "code",
   "execution_count": 57,
   "id": "96a79eed",
   "metadata": {},
   "outputs": [
    {
     "name": "stdout",
     "output_type": "stream",
     "text": [
      "{1, 2, 4}\n"
     ]
    }
   ],
   "source": [
    "nums.remove(3)\n",
    "print(nums)"
   ]
  },
  {
   "cell_type": "markdown",
   "id": "aac74826",
   "metadata": {},
   "source": [
    "`.discard(item)` will remove the element if it exists. If it DNE, it does nothing."
   ]
  },
  {
   "cell_type": "code",
   "execution_count": 58,
   "id": "58a9999c",
   "metadata": {},
   "outputs": [
    {
     "name": "stdout",
     "output_type": "stream",
     "text": [
      "{1, 2, 4}\n"
     ]
    }
   ],
   "source": [
    "nums.discard(3)\n",
    "print(nums)"
   ]
  },
  {
   "cell_type": "markdown",
   "id": "d63bfb7e",
   "metadata": {},
   "source": [
    "Similar to dictionaries, sets can be merged with `.update(set)`. Multiple sets can be merged with `a | b | c ...` (or in-place using `|=` as the first operator). `.update(iter)` also accepts iterables."
   ]
  },
  {
   "cell_type": "code",
   "execution_count": 59,
   "id": "d0c90153",
   "metadata": {},
   "outputs": [
    {
     "name": "stdout",
     "output_type": "stream",
     "text": [
      "{1, 2, 3, 4, 5}\n"
     ]
    }
   ],
   "source": [
    "nums.update([3, 4, 5, 5])\n",
    "print(nums)"
   ]
  },
  {
   "cell_type": "markdown",
   "id": "6a929b81",
   "metadata": {},
   "source": [
    "Sets can be cleared with `.clear()`."
   ]
  },
  {
   "cell_type": "code",
   "execution_count": 60,
   "id": "ea603140",
   "metadata": {},
   "outputs": [
    {
     "name": "stdout",
     "output_type": "stream",
     "text": [
      "set()\n"
     ]
    }
   ],
   "source": [
    "nums.clear()\n",
    "print(nums)"
   ]
  },
  {
   "cell_type": "markdown",
   "id": "705993f3",
   "metadata": {},
   "source": [
    "## General Functions"
   ]
  },
  {
   "cell_type": "markdown",
   "id": "95f06605",
   "metadata": {},
   "source": [
    "`.union(set)` returns a new set which merges the two sets. The `|` operator is syntactic sugar."
   ]
  },
  {
   "cell_type": "code",
   "execution_count": 61,
   "id": "a65663c4",
   "metadata": {},
   "outputs": [
    {
     "data": {
      "text/plain": [
       "{1, 2, 3, 4, 5}"
      ]
     },
     "execution_count": 61,
     "metadata": {},
     "output_type": "execute_result"
    }
   ],
   "source": [
    "nums = set([i for i in range(1, 6)])\n",
    "\n",
    "lucky_numbers = {1, 3, 5}\n",
    "nums.union(lucky_numbers)"
   ]
  },
  {
   "cell_type": "markdown",
   "id": "3c8c223d",
   "metadata": {},
   "source": [
    "`.intersection(set)` returnsa new set containing the intersection of two sets. The `&` operator is syntactic sugar."
   ]
  },
  {
   "cell_type": "code",
   "execution_count": 62,
   "id": "119fa3c7",
   "metadata": {},
   "outputs": [
    {
     "data": {
      "text/plain": [
       "{1, 2, 3}"
      ]
     },
     "execution_count": 62,
     "metadata": {},
     "output_type": "execute_result"
    }
   ],
   "source": [
    "setA = {1, 2, 3, 4, 5}\n",
    "setB = {1, 2, 3, 6, 7, 8, 9}\n",
    "\n",
    "setA & setB"
   ]
  },
  {
   "cell_type": "markdown",
   "id": "fa3c7b07",
   "metadata": {},
   "source": [
    "`.difference(set)` returns a new set of the elements that appear in the first set, but not the second set. The `-` operator is syntactic sugar."
   ]
  },
  {
   "cell_type": "code",
   "execution_count": 63,
   "id": "d506cfd9",
   "metadata": {},
   "outputs": [
    {
     "data": {
      "text/plain": [
       "{4, 5}"
      ]
     },
     "execution_count": 63,
     "metadata": {},
     "output_type": "execute_result"
    }
   ],
   "source": [
    "setA - setB"
   ]
  },
  {
   "cell_type": "markdown",
   "id": "257c0cce",
   "metadata": {},
   "source": [
    "`.symmetric_difference(set)` returns a new set containing all of the non-shared elements between both sets. The logical equivalent is `a - b ∪ b - a`. The `^` operator is syntactic sugar."
   ]
  },
  {
   "cell_type": "code",
   "execution_count": 64,
   "id": "39b28934",
   "metadata": {},
   "outputs": [
    {
     "data": {
      "text/plain": [
       "{4, 5, 6, 7, 8, 9}"
      ]
     },
     "execution_count": 64,
     "metadata": {},
     "output_type": "execute_result"
    }
   ],
   "source": [
    "setA.symmetric_difference(setB)"
   ]
  },
  {
   "cell_type": "markdown",
   "id": "621705b7",
   "metadata": {},
   "source": [
    "`.intersection()`, `.difference()`, and `.symmetric_difference()` can all appended with `_update` (namely `.difference_update()`) to mutate the caller set. This can also be achieved by using their respective operators with `=`, similar to `+=`."
   ]
  },
  {
   "cell_type": "code",
   "execution_count": 65,
   "id": "039fe17e",
   "metadata": {},
   "outputs": [
    {
     "name": "stdout",
     "output_type": "stream",
     "text": [
      "{4, 5}\n"
     ]
    }
   ],
   "source": [
    "setA -= setB\n",
    "print(setA)"
   ]
  },
  {
   "cell_type": "markdown",
   "id": "9a744ac2",
   "metadata": {},
   "source": [
    "## Set Comparison"
   ]
  },
  {
   "cell_type": "markdown",
   "id": "bb395e12",
   "metadata": {},
   "source": [
    "`.disjoint(set)` checks if the caller set and the set passed don't share any elements."
   ]
  },
  {
   "cell_type": "code",
   "execution_count": 66,
   "id": "b4f44cbd",
   "metadata": {},
   "outputs": [
    {
     "data": {
      "text/plain": [
       "True"
      ]
     },
     "execution_count": 66,
     "metadata": {},
     "output_type": "execute_result"
    }
   ],
   "source": [
    "setA = {1, 2, 3}\n",
    "setB = {4, 5, 6}\n",
    "\n",
    "setA.isdisjoint(setB)"
   ]
  },
  {
   "cell_type": "markdown",
   "id": "483881d9",
   "metadata": {},
   "source": [
    "`.issubset(set)` checks if the caller set is a subset of the passed set. `<=` is syntactic sugar for `.issubset(set)`. `<` checks for a **proper** subset (`a <= b and a != b`)."
   ]
  },
  {
   "cell_type": "code",
   "execution_count": 67,
   "id": "328ae112",
   "metadata": {},
   "outputs": [
    {
     "data": {
      "text/plain": [
       "True"
      ]
     },
     "execution_count": 67,
     "metadata": {},
     "output_type": "execute_result"
    }
   ],
   "source": [
    "setA = {1, 2, 3, 4, 5}\n",
    "setB = {1, 2, 3}\n",
    "\n",
    "setB.issubset(setA)"
   ]
  },
  {
   "cell_type": "markdown",
   "id": "d16d9eb8",
   "metadata": {},
   "source": [
    "`.issuperset(set)` checks if the caller set is a superset of the passed set. `>=` is syntactic sugar for `.issuperset(set)`. `>` checks for a **proper** subset (`a >= b and a != b`)."
   ]
  },
  {
   "cell_type": "code",
   "execution_count": 68,
   "id": "f645c446",
   "metadata": {},
   "outputs": [
    {
     "data": {
      "text/plain": [
       "True"
      ]
     },
     "execution_count": 68,
     "metadata": {},
     "output_type": "execute_result"
    }
   ],
   "source": [
    "setA.issuperset(setB)"
   ]
  },
  {
   "cell_type": "markdown",
   "id": "8618d3a1",
   "metadata": {},
   "source": [
    "## Frozen Sets\n",
    "\n",
    "Frozen sets can be constructued from an iterable similar to sets. The difference between the two is that frozen sets can't be modified."
   ]
  },
  {
   "cell_type": "code",
   "execution_count": 69,
   "id": "82a907b9",
   "metadata": {},
   "outputs": [],
   "source": [
    "frozen = frozenset([1, 2, 3])"
   ]
  },
  {
   "cell_type": "markdown",
   "id": "563fc0ae",
   "metadata": {},
   "source": [
    "# LinkedLists"
   ]
  },
  {
   "cell_type": "code",
   "execution_count": 1,
   "id": "835964f0",
   "metadata": {},
   "outputs": [],
   "source": [
    "class Node:\n",
    "    def __init__(self, val = 0, next = None):\n",
    "        self.val = val\n",
    "        self.next = next\n",
    "\n",
    "    def __repr__(self):\n",
    "        it = self\n",
    "        res = \"\"\n",
    "        while it is not None:\n",
    "            res += f\"{it.val} -> \"\n",
    "            it = it.next\n",
    "        return res + \"None\""
   ]
  },
  {
   "cell_type": "markdown",
   "id": "161dff4a",
   "metadata": {},
   "source": [
    "## Merge Two LinkedLists\n",
    "Code to merge two non-descending linked lists into sorted order."
   ]
  },
  {
   "cell_type": "code",
   "execution_count": 3,
   "id": "47a85a12",
   "metadata": {},
   "outputs": [],
   "source": [
    "def mergeTwoLists(l1: Node, l2: Node) -> Node:\n",
    "    # simple case\n",
    "    if l1 is None or l2 is None:\n",
    "        return l1 if l2 is None else l2\n",
    "\n",
    "    head = Node()\n",
    "    p = head\n",
    "    a = l1\n",
    "    b = l2\n",
    "\n",
    "    while a is not None and b is not None:\n",
    "        if a.val <= b.val:\n",
    "            p.next = a\n",
    "            a = a.next\n",
    "        elif a.val > b.val:\n",
    "            p.next = b\n",
    "            b = b.next\n",
    "\n",
    "        p = p.next\n",
    "\n",
    "    p.next = b if a is None else a\n",
    "\n",
    "    return head.next\n",
    "        "
   ]
  },
  {
   "cell_type": "code",
   "execution_count": 4,
   "id": "1fa949a4",
   "metadata": {},
   "outputs": [
    {
     "name": "stdout",
     "output_type": "stream",
     "text": [
      "1 -> 1 -> 2 -> 3 -> 4 -> 4 -> None\n"
     ]
    }
   ],
   "source": [
    "l1 = Node(1, Node(2, Node(4)))\n",
    "l2 = Node(1, Node(3, Node(4)))\n",
    "print(mergeTwoLists(l1, l2))"
   ]
  },
  {
   "cell_type": "markdown",
   "id": "690e3a3f",
   "metadata": {},
   "source": [
    "## Reverse a LinkedList"
   ]
  },
  {
   "cell_type": "code",
   "execution_count": 14,
   "id": "86c1fdaa",
   "metadata": {},
   "outputs": [],
   "source": [
    "def reverseList(head: Node) -> Node:\n",
    "    if not head or not head.next:\n",
    "        return head\n",
    "    \n",
    "    prev = None\n",
    "    while head:\n",
    "        nextNode = head.next\n",
    "        head.next = prev\n",
    "        prev = head\n",
    "        head = nextNode\n",
    "    \n",
    "    return prev"
   ]
  },
  {
   "cell_type": "code",
   "execution_count": 15,
   "id": "a956d4b3",
   "metadata": {},
   "outputs": [
    {
     "name": "stdout",
     "output_type": "stream",
     "text": [
      "5 -> 4 -> 3 -> 2 -> 1 -> None\n"
     ]
    }
   ],
   "source": [
    "l1 = Node(1, Node(2, Node(3, Node(4, Node(5)))))\n",
    "print(reverseList(l1))"
   ]
  },
  {
   "cell_type": "markdown",
   "id": "b824cb06",
   "metadata": {},
   "source": [
    "# Heaps with `heapq` module\n",
    "\n",
    "`heapq` only provides a min-heap implementation. All functions take the heap in as a parameter."
   ]
  },
  {
   "cell_type": "markdown",
   "id": "c1b4670c",
   "metadata": {},
   "source": [
    "## Creating\n",
    "\n",
    "Since heaps are implemented as an array under the hood they can be created with a list. They can also be created from a list with `.heapify(list)`. This heapifys the array in place in O(n) time."
   ]
  },
  {
   "cell_type": "code",
   "execution_count": 5,
   "id": "8decd84f",
   "metadata": {},
   "outputs": [
    {
     "data": {
      "text/plain": [
       "[-53, 41, 2, 294, 348, 28]"
      ]
     },
     "execution_count": 5,
     "metadata": {},
     "output_type": "execute_result"
    }
   ],
   "source": [
    "import heapq\n",
    "\n",
    "nums = [41, 348, 2, 294, -53, 28]\n",
    "heapq.heapify(nums)\n",
    "nums"
   ]
  },
  {
   "cell_type": "markdown",
   "id": "c69f9437",
   "metadata": {},
   "source": [
    "## Accessing\n",
    "\n",
    "The smallest item in the heap can be accessed with `heap[0]`."
   ]
  },
  {
   "cell_type": "code",
   "execution_count": 16,
   "id": "83d25b31",
   "metadata": {},
   "outputs": [
    {
     "data": {
      "text/plain": [
       "-58"
      ]
     },
     "execution_count": 16,
     "metadata": {},
     "output_type": "execute_result"
    }
   ],
   "source": [
    "nums[0]"
   ]
  },
  {
   "cell_type": "markdown",
   "id": "d2b898e7",
   "metadata": {},
   "source": [
    "`.nlargest(n, iter, key = None)` returns the n largest items from the iter according to `key` function."
   ]
  },
  {
   "cell_type": "code",
   "execution_count": 19,
   "id": "d766e2a8",
   "metadata": {},
   "outputs": [
    {
     "data": {
      "text/plain": [
       "[348, 294, 41]"
      ]
     },
     "execution_count": 19,
     "metadata": {},
     "output_type": "execute_result"
    }
   ],
   "source": [
    "heapq.nlargest(3, nums)"
   ]
  },
  {
   "cell_type": "markdown",
   "id": "04098655",
   "metadata": {},
   "source": [
    "`.nsmallest(n, iter, key = None)` returns the n smallest items from the iter according to `key` function."
   ]
  },
  {
   "cell_type": "code",
   "execution_count": 20,
   "id": "a7cc4e98",
   "metadata": {},
   "outputs": [
    {
     "data": {
      "text/plain": [
       "[-58, 28, 29]"
      ]
     },
     "execution_count": 20,
     "metadata": {},
     "output_type": "execute_result"
    }
   ],
   "source": [
    "heapq.nsmallest(3, nums)"
   ]
  },
  {
   "cell_type": "markdown",
   "id": "8565e9aa",
   "metadata": {},
   "source": [
    "## Adding and Removing"
   ]
  },
  {
   "cell_type": "markdown",
   "id": "88af3628",
   "metadata": {},
   "source": [
    "`.heappush(heap, item)` pushes the item onto the heap."
   ]
  },
  {
   "cell_type": "code",
   "execution_count": 6,
   "id": "5c6964da",
   "metadata": {},
   "outputs": [
    {
     "data": {
      "text/plain": [
       "[-53, 41, 2, 294, 348, 28, 29]"
      ]
     },
     "execution_count": 6,
     "metadata": {},
     "output_type": "execute_result"
    }
   ],
   "source": [
    "heapq.heappush(nums, 29)\n",
    "nums"
   ]
  },
  {
   "cell_type": "markdown",
   "id": "2f18cb27",
   "metadata": {},
   "source": [
    "`.heappop(heap)` pops the min item from the heap and returns it. If the heap is empty, `IndexError` is raised."
   ]
  },
  {
   "cell_type": "code",
   "execution_count": 9,
   "id": "1acd2d36",
   "metadata": {},
   "outputs": [
    {
     "data": {
      "text/plain": [
       "-53"
      ]
     },
     "execution_count": 9,
     "metadata": {},
     "output_type": "execute_result"
    }
   ],
   "source": [
    "heapq.heappop(nums)"
   ]
  },
  {
   "cell_type": "markdown",
   "id": "2475278a",
   "metadata": {},
   "source": [
    "`.heappushpop(heap, item)` pushes `item` onto the heap and returns the smallest item from the heap (including the item just added)."
   ]
  },
  {
   "cell_type": "code",
   "execution_count": 14,
   "id": "9b816002",
   "metadata": {},
   "outputs": [
    {
     "name": "stdout",
     "output_type": "stream",
     "text": [
      "-100\n",
      "[2, 41, 28, 294, 348, 29]\n"
     ]
    }
   ],
   "source": [
    "print(heapq.heappushpop(nums, -100))\n",
    "print(nums)"
   ]
  },
  {
   "cell_type": "markdown",
   "id": "31e0b9bf",
   "metadata": {},
   "source": [
    "`.heapreplace(heap, item)` pops and returns the smallest item from the heap, **then** pushes the new item. This operation doesn't include the new value unlike `.heappushpop(heap, item)`."
   ]
  },
  {
   "cell_type": "code",
   "execution_count": 15,
   "id": "fc9ccdf5",
   "metadata": {},
   "outputs": [
    {
     "name": "stdout",
     "output_type": "stream",
     "text": [
      "2\n",
      "[-58, 41, 28, 294, 348, 29]\n"
     ]
    }
   ],
   "source": [
    "print(heapq.heapreplace(nums, -58))\n",
    "print(nums)"
   ]
  },
  {
   "cell_type": "markdown",
   "id": "6c9aabd0",
   "metadata": {
    "heading_collapsed": true
   },
   "source": [
    "# `collections` Module"
   ]
  },
  {
   "cell_type": "markdown",
   "id": "310a56b6",
   "metadata": {
    "heading_collapsed": true,
    "hidden": true
   },
   "source": [
    "## `Counter`\n",
    "\n",
    "The counter is data structure that stores the counts of keys as the value (key, frequency). They inherit `.keys()`, `.values()`, and `.items()` from dictionaries."
   ]
  },
  {
   "cell_type": "markdown",
   "id": "3fdf5063",
   "metadata": {
    "hidden": true
   },
   "source": [
    "### Creating\n",
    "\n",
    "Counters can be created by passing an iterable to `Counter(iter)`."
   ]
  },
  {
   "cell_type": "code",
   "execution_count": 70,
   "id": "675fa854",
   "metadata": {
    "hidden": true
   },
   "outputs": [],
   "source": [
    "from collections import Counter\n",
    "my_counter = Counter(\"aaabbc\")"
   ]
  },
  {
   "cell_type": "markdown",
   "id": "2f8e3ab7",
   "metadata": {
    "hidden": true
   },
   "source": [
    "### Accessing"
   ]
  },
  {
   "cell_type": "markdown",
   "id": "e91f0acd",
   "metadata": {
    "hidden": true
   },
   "source": [
    "Counters are accessed the same way as dictionaries. They also offer a `.most_common(n)` functions that returns a list of the `n` highest counts pairs as tuples."
   ]
  },
  {
   "cell_type": "code",
   "execution_count": 71,
   "id": "31f8db24",
   "metadata": {
    "hidden": true
   },
   "outputs": [
    {
     "data": {
      "text/plain": [
       "[('a', 3), ('b', 2)]"
      ]
     },
     "execution_count": 71,
     "metadata": {},
     "output_type": "execute_result"
    }
   ],
   "source": [
    "my_counter.most_common(2)"
   ]
  },
  {
   "cell_type": "markdown",
   "id": "2df9fc1f",
   "metadata": {
    "heading_collapsed": true,
    "hidden": true
   },
   "source": [
    "## `namedtuple`\n",
    "\n",
    "namedtuples are most similar to structs in C++."
   ]
  },
  {
   "cell_type": "markdown",
   "id": "6b8b96f5",
   "metadata": {
    "hidden": true
   },
   "source": [
    "### Creating\n",
    "\n",
    "namedtuples are created using `namedtuple('name', 'props')` where props are separated by commas or spaces."
   ]
  },
  {
   "cell_type": "code",
   "execution_count": 72,
   "id": "c4986903",
   "metadata": {
    "hidden": true
   },
   "outputs": [
    {
     "name": "stdout",
     "output_type": "stream",
     "text": [
      "Point(x=-1, y=2)\n"
     ]
    }
   ],
   "source": [
    "from collections import namedtuple\n",
    "Point = namedtuple('Point', 'x y')\n",
    "p = Point(-1, 2)\n",
    "print(p)"
   ]
  },
  {
   "cell_type": "markdown",
   "id": "37f8bd90",
   "metadata": {
    "hidden": true
   },
   "source": [
    "### Accessing\n",
    "\n",
    "Props of a named tuple can be accessed by their name."
   ]
  },
  {
   "cell_type": "code",
   "execution_count": 73,
   "id": "e83d974d",
   "metadata": {
    "hidden": true
   },
   "outputs": [
    {
     "name": "stdout",
     "output_type": "stream",
     "text": [
      "x: -1, y: 2\n"
     ]
    }
   ],
   "source": [
    "print(f\"x: {p.x}, y: {p.y}\")"
   ]
  },
  {
   "cell_type": "markdown",
   "id": "f9f095e2",
   "metadata": {
    "hidden": true
   },
   "source": [
    "## `deque`\n",
    "\n",
    "Similar to a double-ended queue from other languages."
   ]
  },
  {
   "cell_type": "markdown",
   "id": "0042a49a",
   "metadata": {
    "hidden": true
   },
   "source": [
    "### Creating\n",
    "\n",
    "Deques can be created using `deque(iter)` where the passed iterable is optional. *Note:* The iterable is inserted in queue order so the last element in the iterable will be the first item in the new deque."
   ]
  },
  {
   "cell_type": "code",
   "execution_count": 74,
   "id": "f6aac82f",
   "metadata": {
    "hidden": true
   },
   "outputs": [
    {
     "name": "stdout",
     "output_type": "stream",
     "text": [
      "deque([1, 2, 3])\n"
     ]
    }
   ],
   "source": [
    "from collections import deque\n",
    "d = deque([1, 2, 3])\n",
    "print(d)"
   ]
  },
  {
   "cell_type": "markdown",
   "id": "0d134866",
   "metadata": {
    "hidden": true
   },
   "source": [
    "### Adding and Removing"
   ]
  },
  {
   "cell_type": "markdown",
   "id": "72801ee7",
   "metadata": {
    "hidden": true
   },
   "source": [
    "Adding can be achieved through `.append(item)` or `.appendleft(item)`."
   ]
  },
  {
   "cell_type": "code",
   "execution_count": 75,
   "id": "ed309ecd",
   "metadata": {
    "hidden": true
   },
   "outputs": [
    {
     "name": "stdout",
     "output_type": "stream",
     "text": [
      "deque([0, 1, 2, 3, 4])\n"
     ]
    }
   ],
   "source": [
    "d.append(4)\n",
    "d.appendleft(0)\n",
    "print(d)"
   ]
  },
  {
   "cell_type": "markdown",
   "id": "b463addd",
   "metadata": {
    "hidden": true
   },
   "source": [
    "Iterables can be added with `.extend(iter)` or `.extendleft(iter)`. *Note:* With `.extendleft()`, items are inserted in queue order so the last item will be the first item in the deque."
   ]
  },
  {
   "cell_type": "code",
   "execution_count": 76,
   "id": "562eb3f4",
   "metadata": {
    "hidden": true
   },
   "outputs": [
    {
     "name": "stdout",
     "output_type": "stream",
     "text": [
      "deque([-2, -1, 0, 1, 2, 3, 4, 5, 6])\n"
     ]
    }
   ],
   "source": [
    "d.extend([5, 6])\n",
    "d.extendleft([-1, -2])\n",
    "print(d)"
   ]
  },
  {
   "cell_type": "markdown",
   "id": "1433ba43",
   "metadata": {
    "hidden": true
   },
   "source": [
    "`.insert(idx, item)` is used to insert an item at a specified index. `O(n)` runtime."
   ]
  },
  {
   "cell_type": "code",
   "execution_count": 77,
   "id": "9fff3051",
   "metadata": {
    "hidden": true
   },
   "outputs": [
    {
     "name": "stdout",
     "output_type": "stream",
     "text": [
      "deque([-3, -2, -1, 0, 1, 2, 3, 4, 5, 6])\n"
     ]
    }
   ],
   "source": [
    "d.insert(0, -3)\n",
    "print(d)"
   ]
  },
  {
   "cell_type": "markdown",
   "id": "96406668",
   "metadata": {
    "hidden": true
   },
   "source": [
    "Removing is done through `.pop()` or `.popleft()`. Both functions return the popped item."
   ]
  },
  {
   "cell_type": "code",
   "execution_count": 78,
   "id": "1bb3d816",
   "metadata": {
    "hidden": true
   },
   "outputs": [
    {
     "name": "stdout",
     "output_type": "stream",
     "text": [
      "6 used to be first.\n",
      "-3 used to be last.\n",
      "deque([-2, -1, 0, 1, 2, 3, 4, 5])\n"
     ]
    }
   ],
   "source": [
    "first = d.pop()\n",
    "last = d.popleft()\n",
    "print(f\"{first} used to be first.\")\n",
    "print(f\"{last} used to be last.\")\n",
    "print(d)"
   ]
  },
  {
   "cell_type": "markdown",
   "id": "ced61643",
   "metadata": {
    "hidden": true
   },
   "source": [
    "`.remove(item)` is used to remove the first occurrence of item. If item DNE, a `ValueError` is raised. `O(n)` runtime."
   ]
  },
  {
   "cell_type": "code",
   "execution_count": 79,
   "id": "92d49c3e",
   "metadata": {
    "hidden": true
   },
   "outputs": [
    {
     "name": "stdout",
     "output_type": "stream",
     "text": [
      "deque([-2, -1, 0, 1, 2, 3, 5])\n"
     ]
    }
   ],
   "source": [
    "d.remove(4)\n",
    "print(d)"
   ]
  },
  {
   "cell_type": "markdown",
   "id": "8d1cb0b9",
   "metadata": {
    "hidden": true
   },
   "source": [
    "The deque can be cleared with `.clear()`."
   ]
  },
  {
   "cell_type": "code",
   "execution_count": 80,
   "id": "757d5269",
   "metadata": {
    "hidden": true
   },
   "outputs": [],
   "source": [
    "d.clear()"
   ]
  },
  {
   "cell_type": "markdown",
   "id": "c1d2e84b",
   "metadata": {
    "hidden": true
   },
   "source": [
    "### Accessing\n",
    "\n",
    "Deques support random access with `[]`. Random access is `O(n)`, but front/back access is `O(1)`."
   ]
  },
  {
   "cell_type": "markdown",
   "id": "f7b6a893",
   "metadata": {
    "hidden": true
   },
   "source": [
    "`.index(item)` can be used to get the index of the specified item. `O(n)` runtime."
   ]
  },
  {
   "cell_type": "code",
   "execution_count": 81,
   "id": "a51c2907",
   "metadata": {
    "hidden": true
   },
   "outputs": [
    {
     "data": {
      "text/plain": [
       "1"
      ]
     },
     "execution_count": 81,
     "metadata": {},
     "output_type": "execute_result"
    }
   ],
   "source": [
    "d = deque([1, 2, 3])\n",
    "d.index(2)"
   ]
  },
  {
   "cell_type": "markdown",
   "id": "87fb2138",
   "metadata": {
    "hidden": true
   },
   "source": [
    "### General Functions"
   ]
  },
  {
   "cell_type": "markdown",
   "id": "3ce69871",
   "metadata": {
    "hidden": true
   },
   "source": [
    "`.count(item)` counts the number of `item`s in the deque."
   ]
  },
  {
   "cell_type": "code",
   "execution_count": 82,
   "id": "11eec442",
   "metadata": {
    "hidden": true
   },
   "outputs": [
    {
     "data": {
      "text/plain": [
       "2"
      ]
     },
     "execution_count": 82,
     "metadata": {},
     "output_type": "execute_result"
    }
   ],
   "source": [
    "d.append(3)\n",
    "d.count(3)"
   ]
  },
  {
   "cell_type": "markdown",
   "id": "cd744976",
   "metadata": {
    "hidden": true
   },
   "source": [
    "`.reverse()` reverses the deque in-place and returns `None`."
   ]
  },
  {
   "cell_type": "code",
   "execution_count": 83,
   "id": "bf0d6dab",
   "metadata": {
    "hidden": true
   },
   "outputs": [
    {
     "name": "stdout",
     "output_type": "stream",
     "text": [
      "deque([3, 3, 2, 1])\n"
     ]
    }
   ],
   "source": [
    "d.reverse()\n",
    "print(d)"
   ]
  },
  {
   "cell_type": "markdown",
   "id": "4b2d4d8f",
   "metadata": {
    "hidden": true
   },
   "source": [
    "`.rotate(n = 1)` rotates the deque by `n` to the right. If `n` is negative, the deque is rotated left. Rotating one step is `O(1)` since it's equivalent to `d.append(d.pop())`. Otherwise, rotations are `O(n)` where `n` is the parameter."
   ]
  },
  {
   "cell_type": "code",
   "execution_count": 84,
   "id": "09679c80",
   "metadata": {
    "hidden": true
   },
   "outputs": [
    {
     "name": "stdout",
     "output_type": "stream",
     "text": [
      "deque([3, 3, 2, 1])\n",
      "deque([1, 3, 3, 2])\n"
     ]
    }
   ],
   "source": [
    "print(d)\n",
    "d.rotate()\n",
    "print(d)"
   ]
  },
  {
   "cell_type": "markdown",
   "id": "b77ec73d",
   "metadata": {
    "heading_collapsed": true
   },
   "source": [
    "# `itertools` module"
   ]
  },
  {
   "cell_type": "markdown",
   "id": "e0dabf26",
   "metadata": {
    "hidden": true
   },
   "source": [
    "## `product`\n",
    "\n",
    "`product(*iters)` returns the Cartesian product of the input iterables as tuples when casted to a list."
   ]
  },
  {
   "cell_type": "code",
   "execution_count": 85,
   "id": "43b77bbe",
   "metadata": {
    "hidden": true
   },
   "outputs": [
    {
     "name": "stdout",
     "output_type": "stream",
     "text": [
      "[(1, 3), (1, 4), (2, 3), (2, 4)]\n"
     ]
    }
   ],
   "source": [
    "from itertools import product\n",
    "a = [1, 2]\n",
    "b = [3, 4]\n",
    "prod = list(product(a, b))\n",
    "print(prod)"
   ]
  },
  {
   "cell_type": "markdown",
   "id": "3f86d238",
   "metadata": {
    "hidden": true
   },
   "source": [
    "## `permutations`\n",
    "\n",
    "`permutations(iter, r = None)` returns all possible permutations of an iterable as tuples when casted to a list. `r` represents the size limit of generated permutations."
   ]
  },
  {
   "cell_type": "code",
   "execution_count": 86,
   "id": "bcece8dd",
   "metadata": {
    "hidden": true
   },
   "outputs": [
    {
     "name": "stdout",
     "output_type": "stream",
     "text": [
      "[(1, 2, 3), (1, 3, 2), (2, 1, 3), (2, 3, 1), (3, 1, 2), (3, 2, 1)]\n"
     ]
    }
   ],
   "source": [
    "from itertools import permutations\n",
    "a = [1, 2, 3]\n",
    "perm = permutations(a)\n",
    "print(list(perm))"
   ]
  },
  {
   "cell_type": "markdown",
   "id": "070ea9e6",
   "metadata": {
    "hidden": true
   },
   "source": [
    "## `combinations`\n",
    "\n",
    "`combinations(iter, r)` returns all combinations of an iterable as tuples when casted to a list. `r` represents the size limit of generated combinations."
   ]
  },
  {
   "cell_type": "code",
   "execution_count": 87,
   "id": "72e361db",
   "metadata": {
    "hidden": true
   },
   "outputs": [
    {
     "name": "stdout",
     "output_type": "stream",
     "text": [
      "[(1, 2), (1, 3), (1, 4), (2, 3), (2, 4), (3, 4)]\n"
     ]
    }
   ],
   "source": [
    "from itertools import combinations as comb\n",
    "a = [1, 2, 3, 4]\n",
    "c = comb(a, 2)\n",
    "print(list(c))"
   ]
  },
  {
   "cell_type": "markdown",
   "id": "5a93610e",
   "metadata": {
    "hidden": true
   },
   "source": [
    "## `combinations_with_replacement`\n",
    "\n",
    "`combinations_with_replacement(iter, r)` retuns all possible combinations of an iterable with replacement as tuples when casted to a list. `r` represents the size limit of generated combinations."
   ]
  },
  {
   "cell_type": "code",
   "execution_count": 88,
   "id": "58c26c16",
   "metadata": {
    "hidden": true
   },
   "outputs": [
    {
     "name": "stdout",
     "output_type": "stream",
     "text": [
      "[(1, 1), (1, 2), (1, 3), (2, 2), (2, 3), (3, 3)]\n"
     ]
    }
   ],
   "source": [
    "from itertools import combinations_with_replacement as combr\n",
    "a = [1, 2, 3]\n",
    "c_with_r = combr(a, 2)\n",
    "print(list(c_with_r))"
   ]
  },
  {
   "cell_type": "markdown",
   "id": "dbb37751",
   "metadata": {
    "heading_collapsed": true
   },
   "source": [
    "# For loops\n",
    "\n",
    "For loops in Python are a lot more flexible than they are in other languages. They can be used as a `for ... in` loop for many things."
   ]
  },
  {
   "cell_type": "code",
   "execution_count": 89,
   "id": "a84427fb",
   "metadata": {
    "hidden": true,
    "scrolled": true
   },
   "outputs": [
    {
     "name": "stdout",
     "output_type": "stream",
     "text": [
      "A\n",
      "n\n",
      "d\n",
      "y\n",
      " \n",
      "M\n",
      "i\n",
      "n\n",
      "a\n"
     ]
    }
   ],
   "source": [
    "for char in \"Andy Mina\":\n",
    "    print(char)"
   ]
  },
  {
   "cell_type": "code",
   "execution_count": 90,
   "id": "825107a1",
   "metadata": {
    "hidden": true
   },
   "outputs": [
    {
     "name": "stdout",
     "output_type": "stream",
     "text": [
      "banana\n",
      "apple\n",
      "grapes\n"
     ]
    }
   ],
   "source": [
    "for fruits in [\"banana\", \"apple\", \"grapes\"]:\n",
    "    print(fruits)"
   ]
  },
  {
   "cell_type": "markdown",
   "id": "a7875eb7",
   "metadata": {
    "hidden": true
   },
   "source": [
    "The `range()` function can be used to generate a sequences of numbers to loop with. It takes three parameters: `range(start = 0, stop, step = 1)`. The integer passed as `stop` is not included in the range."
   ]
  },
  {
   "cell_type": "code",
   "execution_count": 91,
   "id": "93f00a96",
   "metadata": {
    "hidden": true
   },
   "outputs": [
    {
     "name": "stdout",
     "output_type": "stream",
     "text": [
      "0\n",
      "1\n",
      "2\n",
      "3\n",
      "4\n"
     ]
    }
   ],
   "source": [
    "for i in range(5):\n",
    "    print(i)"
   ]
  },
  {
   "cell_type": "markdown",
   "id": "83f7f781",
   "metadata": {
    "heading_collapsed": true
   },
   "source": [
    "# Try/Except Blocks\n",
    "\n",
    "Works similar to how it does in other languages. `except` statements can be chained together like a `switch` block to catch different errors."
   ]
  },
  {
   "cell_type": "code",
   "execution_count": 92,
   "id": "92ffea4d",
   "metadata": {
    "hidden": true
   },
   "outputs": [
    {
     "name": "stdout",
     "output_type": "stream",
     "text": [
      "Undefined\n"
     ]
    }
   ],
   "source": [
    "try:\n",
    "    value = 1/0\n",
    "    print(value)\n",
    "except ZeroDivisionError:\n",
    "    print('Undefined')"
   ]
  },
  {
   "cell_type": "markdown",
   "id": "8b03a80c",
   "metadata": {
    "heading_collapsed": true
   },
   "source": [
    "# File Streams\n",
    "\n",
    "Files can be opened with `open(path, option = \"r\")`. You can specify what to do with the open file by passing the correct option string:"
   ]
  },
  {
   "cell_type": "markdown",
   "id": "2deabc61",
   "metadata": {
    "hidden": true
   },
   "source": [
    "- \"r\": Read a file; errors if the file DNE\n",
    "- \"w\": Write to a file; creates the file if it DNE\n",
    "- \"r+\": Read and write a file; creates the file if it DNE\n",
    "- \"a\": Appends to a file; creates the file if it DNE\n",
    "- \"x\": Create a file; errors if the file exists already\n",
    "- \"t\": Parse the file as text\n",
    "- \"b\": Parse the file as binary"
   ]
  },
  {
   "cell_type": "markdown",
   "id": "de0515f8",
   "metadata": {
    "hidden": true
   },
   "source": [
    "Never forget to close the file with `.close()`."
   ]
  },
  {
   "cell_type": "code",
   "execution_count": 93,
   "id": "c9e61365",
   "metadata": {
    "hidden": true
   },
   "outputs": [],
   "source": [
    "sample = open('sample.txt')\n",
    "sample.close()"
   ]
  },
  {
   "cell_type": "markdown",
   "id": "8cb21d8f",
   "metadata": {
    "hidden": true
   },
   "source": [
    "Files can be read with `.read()` to read the whole file into a string or `.readline()` to only read one line. `.readline()` moves the cursor to the next line which affects subsequent read commands."
   ]
  },
  {
   "cell_type": "code",
   "execution_count": 94,
   "id": "181e4d76",
   "metadata": {
    "hidden": true
   },
   "outputs": [
    {
     "name": "stdout",
     "output_type": "stream",
     "text": [
      "Hi, my name is Andy Mina.\n",
      "\n",
      "My girlfriend's name is Sabina Kubayeva.\n",
      "Goodbye.\n"
     ]
    }
   ],
   "source": [
    "sample = open('sample.txt', \"r+\")\n",
    "\n",
    "single = sample.readline()\n",
    "whole = sample.read()\n",
    "\n",
    "print(single)\n",
    "print(whole)"
   ]
  },
  {
   "cell_type": "markdown",
   "id": "6b35e4b8",
   "metadata": {
    "hidden": true
   },
   "source": [
    "The cursor can be moved by using `.seek()` with one of three parameters:\n",
    "1. `0` which moves the pointer to the beginning of the file\n",
    "2. `1` which moves the pointer relative to the current position\n",
    "3. `2` which moves the pointer to the end of the file"
   ]
  },
  {
   "cell_type": "code",
   "execution_count": 95,
   "id": "ecbb0c7f",
   "metadata": {
    "hidden": true
   },
   "outputs": [
    {
     "data": {
      "text/plain": [
       "0"
      ]
     },
     "execution_count": 95,
     "metadata": {},
     "output_type": "execute_result"
    }
   ],
   "source": [
    "sample.seek(0)"
   ]
  },
  {
   "cell_type": "markdown",
   "id": "4c7f3a32",
   "metadata": {
    "hidden": true
   },
   "source": [
    "`.readlines()` reads all of the lines into a list which can then be used in a `for ... in` loop."
   ]
  },
  {
   "cell_type": "code",
   "execution_count": 96,
   "id": "10def92d",
   "metadata": {
    "hidden": true
   },
   "outputs": [
    {
     "name": "stdout",
     "output_type": "stream",
     "text": [
      "['Hi, my name is Andy Mina.\\n', \"My girlfriend's name is Sabina Kubayeva.\\n\", 'Goodbye.']\n"
     ]
    }
   ],
   "source": [
    "lines = sample.readlines()\n",
    "print(lines)"
   ]
  },
  {
   "cell_type": "markdown",
   "id": "d31637aa",
   "metadata": {
    "hidden": true
   },
   "source": [
    "`.write(line)` is used to add a line onto a file."
   ]
  },
  {
   "cell_type": "code",
   "execution_count": 97,
   "id": "4982d783",
   "metadata": {
    "hidden": true
   },
   "outputs": [
    {
     "data": {
      "text/plain": [
       "14"
      ]
     },
     "execution_count": 97,
     "metadata": {},
     "output_type": "execute_result"
    }
   ],
   "source": [
    "sample.write('Welcome back!\\n')"
   ]
  },
  {
   "cell_type": "markdown",
   "id": "30c92fc6",
   "metadata": {},
   "source": [
    "# Classes and Objects\n",
    "\n",
    "Classes inherit from parents classes by being passed as a parameter in the signature. Children classes do not need an `__init__` constructor."
   ]
  },
  {
   "cell_type": "code",
   "execution_count": 98,
   "id": "7c16e178",
   "metadata": {},
   "outputs": [
    {
     "name": "stdout",
     "output_type": "stream",
     "text": [
      "Bark!\n"
     ]
    }
   ],
   "source": [
    "class Animal:\n",
    "    def __init__(self):\n",
    "        self.planet = 'Earth'\n",
    "        \n",
    "    def eat(self):\n",
    "        print(f'I eat food on {self.planet}.')\n",
    "        \n",
    "class Dog(Animal):\n",
    "    def speak(self):\n",
    "        print('Bark!')\n",
    "        \n",
    "sunny = Dog()\n",
    "sunny.speak()"
   ]
  },
  {
   "cell_type": "markdown",
   "id": "6fe24482",
   "metadata": {},
   "source": [
    "## Overloading"
   ]
  },
  {
   "cell_type": "markdown",
   "id": "2f191d9c",
   "metadata": {},
   "source": [
    "### Operator Overloading"
   ]
  },
  {
   "cell_type": "markdown",
   "id": "a4714343",
   "metadata": {},
   "source": [
    "Mathematical operators can be overloaded. Prepending any of the math overload signatures with `i` such as `a.__iadd__(b)` is an in-place specifier to be used in scenarios like `a += b`. \n",
    "\n",
    "| Operator | Expression | Overload signature |\n",
    "| -------- | ---------- | ------------------ |\n",
    "| Addition | `a + b` | `a.__add__(b)` |\n",
    "| Subtraction | `a - b` | `a.__sub__(b)` |\n",
    "| Multiplication | `a * b` | `a.__mul__(b)` |\n",
    "| Power | `a ** b` | `a.__pow__(b)` |\n",
    "| Division | `a / b` | `a.__truediv__(b)` |\n",
    "| Int Division | `a // b` | `a.__floordiv__(b)` |\n",
    "| Modulo | `a % b` | `a.__mod__(b)` |\n",
    "| Bitwise Left Shift | `a << b` | `a.__lshift__(b)` |\n",
    "| Bitwise Right Shift | `a >> b` | `a.__rshift__(b)` |\n",
    "| Bitwise NOT | `~a` | `a.__not__()` |\n",
    "| Bitwise AND | `a & b` | `a.__and__(b)` |\n",
    "| Bitwise OR | `a \\| b` | `a.__or__(b)` |\n",
    "| Bitwise XOR | `a ^ b` | `a.__xor__(b)` |\n",
    "| Bracket Evaluation | `c = a[b]` | `a.__getitem(key)__` |\n",
    "| Bracket Assignment | `a[b] = c` | `a.__setitem(key, value)__` |"
   ]
  },
  {
   "cell_type": "markdown",
   "id": "743e1929",
   "metadata": {},
   "source": [
    "Comparison operators can also be overloaded.\n",
    "\n",
    "| Operator | Expression | Overload signature |\n",
    "| -------- | ---------- | ------------------ |\n",
    "| Equal | `a == b` | `a.__eq__(b)` |\n",
    "| Not equal | `a != b` | `a.__ne__(b)` |\n",
    "| Less than | `a < b` | `a.__lt__(b)` |\n",
    "| Less than or equal to | `a <= b` | `a.__le__(b)` |\n",
    "| Greater than | `a > b` | `a.__gt__(b)` |\n",
    "| Greater than or equal to | `a >= b` | `a.__ge__(b)` |"
   ]
  },
  {
   "cell_type": "markdown",
   "id": "4efd620c",
   "metadata": {},
   "source": [
    "### Function Overloading in Classes\n",
    "\n",
    "All of the following functions take `self` as the first parameter since they are implemented within classes."
   ]
  },
  {
   "cell_type": "markdown",
   "id": "4f9a13e7",
   "metadata": {},
   "source": [
    "#### `__new__()`, `__init__()`, and `__del__()`\n",
    "\n",
    "`__new__` is called to create a instance of a class. `__init__` is invoked `__new__` and is commonly used as the constructor. `__del__` is the \"clean up\" functions for a class and is improperly referred to as a destructor. `__del__` is called when an instance is *about* to be destroyed. `del x` decreases the reference count of `x` by 1 and `__del__` is called when the reference count of `x` is 0."
   ]
  },
  {
   "cell_type": "markdown",
   "id": "928a843e",
   "metadata": {},
   "source": [
    "#### `__repr__()`\n",
    "\n",
    "`__repr__` is called for the built-in functions `print()` and `format()`, which is called for formatted string literals."
   ]
  },
  {
   "cell_type": "markdown",
   "id": "4990842d",
   "metadata": {},
   "source": [
    "#### `__hash__()`\n",
    "\n",
    "`__hash__` is called by the built-in `hash()` and should return an integer. `__eq__` and `__hash__` should be implemented together; `__hash__` will not work without `__eq__`."
   ]
  },
  {
   "cell_type": "markdown",
   "id": "1535f93b",
   "metadata": {},
   "source": [
    "#### `__getitem__(key)` and `__setitem__(key, value)`\n",
    "\n",
    "`__getitem(key)__` defines the bracket evaluation operator for a class, namely `self[key]`. `__setitem(key, value)__` defines the bracket assignment operator for a class, namely `self[key] = x`.\n",
    "\n",
    "\n",
    "- If `key` is the wrong type, raise `TypeError`.\n",
    "- If `key` provides an index out of bounds, raise `IndexError`.\n",
    "- If `key` is not in the container, raise `KeyError`."
   ]
  },
  {
   "cell_type": "markdown",
   "id": "54a3e9a7",
   "metadata": {},
   "source": [
    "#### `__contains__(self, item)`\n",
    "\n",
    "`__contains__(item)` is used for the `in` membership commonly seen in built-in containers."
   ]
  },
  {
   "cell_type": "markdown",
   "id": "a8310289",
   "metadata": {
    "heading_collapsed": true
   },
   "source": [
    "# Good-to-know Functions"
   ]
  },
  {
   "cell_type": "markdown",
   "id": "44e2c293",
   "metadata": {
    "heading_collapsed": true,
    "hidden": true
   },
   "source": [
    "## `sorted(iter)`\n",
    "\n",
    "Sorts an iterable and returns a copy."
   ]
  },
  {
   "cell_type": "code",
   "execution_count": 1,
   "id": "0642569e",
   "metadata": {
    "hidden": true
   },
   "outputs": [
    {
     "data": {
      "text/plain": [
       "[-5, 1, 2, 3, 19]"
      ]
     },
     "execution_count": 1,
     "metadata": {},
     "output_type": "execute_result"
    }
   ],
   "source": [
    "nums = {1, 3, 19, 2, -5}\n",
    "sorted(nums)"
   ]
  },
  {
   "cell_type": "markdown",
   "id": "f4e890aa",
   "metadata": {
    "heading_collapsed": true,
    "hidden": true
   },
   "source": [
    "## `reversed(iter)`"
   ]
  },
  {
   "cell_type": "markdown",
   "id": "d0947766",
   "metadata": {
    "hidden": true
   },
   "source": [
    "Returns a iterator to the end of the reversed iterable."
   ]
  },
  {
   "cell_type": "code",
   "execution_count": 2,
   "id": "1ff5b7e6",
   "metadata": {
    "hidden": true
   },
   "outputs": [
    {
     "name": "stdout",
     "output_type": "stream",
     "text": [
      "a\n",
      "n\n",
      "i\n",
      "M\n",
      " \n",
      "y\n",
      "d\n",
      "n\n",
      "A\n"
     ]
    }
   ],
   "source": [
    "s = \"Andy Mina\"\n",
    "for c in reversed(s):\n",
    "    print(c)"
   ]
  },
  {
   "cell_type": "markdown",
   "id": "c0ae4949",
   "metadata": {
    "heading_collapsed": true,
    "hidden": true
   },
   "source": [
    "## `max()` and `min()`"
   ]
  },
  {
   "cell_type": "markdown",
   "id": "04f52ba7",
   "metadata": {
    "hidden": true
   },
   "source": [
    "`max(a, b)` returns the max of two numbers. `min(a, b)` returns the min."
   ]
  },
  {
   "cell_type": "code",
   "execution_count": 19,
   "id": "25e7646c",
   "metadata": {
    "hidden": true
   },
   "outputs": [
    {
     "name": "stdout",
     "output_type": "stream",
     "text": [
      "20\n",
      "10\n"
     ]
    }
   ],
   "source": [
    "print(max(10, 20))\n",
    "print(min(10, 20))"
   ]
  },
  {
   "cell_type": "markdown",
   "id": "89fb5e16",
   "metadata": {
    "hidden": true
   },
   "source": [
    "Both functions can also be passed an iterable and a custom comparator functions. For example, `max(iter, key={func})`."
   ]
  },
  {
   "cell_type": "code",
   "execution_count": 2,
   "id": "13b3a68d",
   "metadata": {
    "hidden": true
   },
   "outputs": [
    {
     "data": {
      "text/plain": [
       "'Alexander'"
      ]
     },
     "execution_count": 2,
     "metadata": {},
     "output_type": "execute_result"
    }
   ],
   "source": [
    "names = [\"Andy\", \"Alexander\", \"Andrew\", \"Arthur\"]\n",
    "max(names, key=len)"
   ]
  },
  {
   "cell_type": "markdown",
   "id": "4130a6d7",
   "metadata": {
    "heading_collapsed": true
   },
   "source": [
    "# Practice Problems and Solutions"
   ]
  },
  {
   "cell_type": "markdown",
   "id": "dd14aa84",
   "metadata": {
    "hidden": true
   },
   "source": [
    "## Rotational Cipher - Facebook"
   ]
  },
  {
   "cell_type": "markdown",
   "id": "e5b7324b",
   "metadata": {
    "hidden": true
   },
   "source": [
    "Taken from a Facebook practice coding problem. Description below. ![cipher-problem](assets/fb-cipher.png)"
   ]
  },
  {
   "cell_type": "code",
   "execution_count": 16,
   "id": "404c03ca",
   "metadata": {
    "hidden": true
   },
   "outputs": [],
   "source": [
    "# comment\n",
    "def cipher(msg: str, rotation_factor: int) -> str:\n",
    "    res = []\n",
    "    \n",
    "    for c in msg:\n",
    "        if c.isalpha():\n",
    "            # grab the offset\n",
    "            temp = rotation_factor % 26 + ord(c.lower())\n",
    "            # check if OOB\n",
    "            if temp > ord('z'):\n",
    "                temp = (temp - ord('a')) % 26 + ord('a')\n",
    "            # convert to letter\n",
    "            temp = chr(temp)\n",
    "            res.append(temp.upper() if c.isupper() else temp)\n",
    "        elif c.isdigit():\n",
    "            # calc num offset\n",
    "            num = int(c) + rotation_factor % 10\n",
    "            # check if OOB\n",
    "            if num > 9:\n",
    "                num = (num - 10) % 10\n",
    "            res.append(str(num))\n",
    "        else:\n",
    "            res.append(c)\n",
    "    return ''.join(res)"
   ]
  },
  {
   "cell_type": "markdown",
   "id": "db559406",
   "metadata": {},
   "source": [
    "# Sandbox"
   ]
  },
  {
   "cell_type": "code",
   "execution_count": 82,
   "id": "02e4981a",
   "metadata": {},
   "outputs": [],
   "source": [
    "class TrieNode:\n",
    "    word: str;\n",
    "    children: dict;\n",
    "\n",
    "    def __init__(self, word = '!'):\n",
    "        self.word = word\n",
    "        self.children = {}\n",
    "\n",
    "    def add(self, item: str) -> bool:\n",
    "        if self.word == '*':\n",
    "            return False\n",
    "\n",
    "        if item in self.children:\n",
    "            return False\n",
    "\n",
    "        self.children[item] = TrieNode(item)\n",
    "        return True\n",
    "\n",
    "    def terminate(self) -> None:\n",
    "        if self.word == '*' or '*' in self.children:\n",
    "            return\n",
    "\n",
    "        self.children['*'] = None\n",
    "\n",
    "    def __contains__(self, other: str) -> bool:\n",
    "        return other in self.children\n",
    "\n",
    "class Trie:            \n",
    "    # begin Trie class\n",
    "    head: TrieNode;\n",
    "        \n",
    "    def __init__(self):\n",
    "        self.head = TrieNode()        \n",
    "\n",
    "    def insert(self, word: str):\n",
    "        current = self.head\n",
    "        for c in word:\n",
    "            if c not in current:\n",
    "                current.add(c)\n",
    "                \n",
    "            current = current.children[c]\n",
    "        # add a terminator at the end of the word\n",
    "        current.add('*')\n",
    "\n",
    "    def __contains__(self, word: str) -> bool:\n",
    "        current = self.head\n",
    "        for c in word:\n",
    "            if c not in current:\n",
    "                return False\n",
    "            current = current.children[c]\n",
    "        \n",
    "        return '*' in current\n",
    "    \n",
    "    def extend(self, iterable) -> None:\n",
    "        for s in iterable:\n",
    "            self.insert(s)\n",
    "        \n",
    "    def hasPrefix(self, prefix: str) -> bool:\n",
    "        current = self.head\n",
    "        for c in word:\n",
    "            if c not in current:\n",
    "                return False\n",
    "            current = current.children[c]\n",
    "        return True"
   ]
  },
  {
   "cell_type": "code",
   "execution_count": 85,
   "id": "7d451b2b",
   "metadata": {},
   "outputs": [],
   "source": [
    "prefixTrie = Trie()\n",
    "prefixTrie.extend(['cat', 'child', 'purse', 'window', 'eye'])"
   ]
  },
  {
   "cell_type": "code",
   "execution_count": 86,
   "id": "950de1f2",
   "metadata": {},
   "outputs": [
    {
     "data": {
      "text/plain": [
       "True"
      ]
     },
     "execution_count": 86,
     "metadata": {},
     "output_type": "execute_result"
    }
   ],
   "source": [
    "'eye' in prefixTrie"
   ]
  }
 ],
 "metadata": {
  "kernelspec": {
   "display_name": "Python 3 (ipykernel)",
   "language": "python",
   "name": "python3"
  },
  "language_info": {
   "codemirror_mode": {
    "name": "ipython",
    "version": 3
   },
   "file_extension": ".py",
   "mimetype": "text/x-python",
   "name": "python",
   "nbconvert_exporter": "python",
   "pygments_lexer": "ipython3",
   "version": "3.9.7"
  },
  "toc": {
   "base_numbering": 1,
   "nav_menu": {},
   "number_sections": true,
   "sideBar": true,
   "skip_h1_title": false,
   "title_cell": "Table of Contents",
   "title_sidebar": "Contents",
   "toc_cell": false,
   "toc_position": {
    "height": "calc(100% - 180px)",
    "left": "10px",
    "top": "150px",
    "width": "192px"
   },
   "toc_section_display": true,
   "toc_window_display": true
  }
 },
 "nbformat": 4,
 "nbformat_minor": 5
}
