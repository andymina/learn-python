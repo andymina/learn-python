{
 "cells": [
  {
   "cell_type": "markdown",
   "id": "fd99a27c",
   "metadata": {},
   "source": [
    "# Working with Strings"
   ]
  },
  {
   "cell_type": "markdown",
   "id": "bb5c1b5b",
   "metadata": {},
   "source": [
    "`.index()` returns the index of the first occurence of the string passed. If the string isn't found, a `ValueError` is thrown."
   ]
  },
  {
   "cell_type": "code",
   "execution_count": 45,
   "id": "4a85f614",
   "metadata": {},
   "outputs": [
    {
     "data": {
      "text/plain": [
       "7"
      ]
     },
     "execution_count": 45,
     "metadata": {},
     "output_type": "execute_result"
    }
   ],
   "source": [
    "msg = 'Hello, world!'\n",
    "msg.index('w')"
   ]
  },
  {
   "cell_type": "markdown",
   "id": "d98f1e9c",
   "metadata": {},
   "source": [
    "Formatted strings work similar to template strings in ES6."
   ]
  },
  {
   "cell_type": "code",
   "execution_count": 9,
   "id": "7af808a4",
   "metadata": {},
   "outputs": [
    {
     "data": {
      "text/plain": [
       "'Hello, world!'"
      ]
     },
     "execution_count": 9,
     "metadata": {},
     "output_type": "execute_result"
    }
   ],
   "source": [
    "f'{msg}'"
   ]
  },
  {
   "cell_type": "markdown",
   "id": "674bd7f6",
   "metadata": {},
   "source": [
    "Brackets work the same as usual for indexing. Brackets can also use negative indexing to get the end of a list. Brackets can also be used to return substrings, *[begin, end)*. If either is omitted, it means until limit."
   ]
  },
  {
   "cell_type": "code",
   "execution_count": 11,
   "id": "d157e419",
   "metadata": {},
   "outputs": [
    {
     "name": "stdout",
     "output_type": "stream",
     "text": [
      "Hel\n",
      "Hello, world!\n",
      "!\n"
     ]
    }
   ],
   "source": [
    "print(msg[:3]) # beginning up until 3rd index\n",
    "print(msg[:]) # copies a whole string\n",
    "print(msg[-1]) # last character"
   ]
  },
  {
   "cell_type": "markdown",
   "id": "011a8cdb",
   "metadata": {},
   "source": [
    "# Working with Numbers"
   ]
  },
  {
   "cell_type": "markdown",
   "id": "d29dc09c",
   "metadata": {},
   "source": [
    "`//` does integer division. Without it, we would get a float."
   ]
  },
  {
   "cell_type": "code",
   "execution_count": 4,
   "id": "fc60e9d9",
   "metadata": {},
   "outputs": [
    {
     "data": {
      "text/plain": [
       "2"
      ]
     },
     "execution_count": 4,
     "metadata": {},
     "output_type": "execute_result"
    }
   ],
   "source": [
    "12 // 5"
   ]
  },
  {
   "cell_type": "markdown",
   "id": "6a111c52",
   "metadata": {},
   "source": [
    "`**` does exponents and is faster than `pow()`."
   ]
  },
  {
   "cell_type": "code",
   "execution_count": 5,
   "id": "296e9d53",
   "metadata": {},
   "outputs": [
    {
     "data": {
      "text/plain": [
       "8"
      ]
     },
     "execution_count": 5,
     "metadata": {},
     "output_type": "execute_result"
    }
   ],
   "source": [
    "2**3"
   ]
  },
  {
   "cell_type": "markdown",
   "id": "145ec1ab",
   "metadata": {},
   "source": [
    "`abs()` gives the absolute value of a num."
   ]
  },
  {
   "cell_type": "code",
   "execution_count": 12,
   "id": "95411e0b",
   "metadata": {},
   "outputs": [
    {
     "data": {
      "text/plain": [
       "5"
      ]
     },
     "execution_count": 12,
     "metadata": {},
     "output_type": "execute_result"
    }
   ],
   "source": [
    "abs(-5)"
   ]
  },
  {
   "cell_type": "markdown",
   "id": "58a2aec3",
   "metadata": {},
   "source": [
    "`max(a, b)` returns the max of two numbers. `min(a, b)` returns the min."
   ]
  },
  {
   "cell_type": "code",
   "execution_count": 15,
   "id": "1f516839",
   "metadata": {},
   "outputs": [
    {
     "name": "stdout",
     "output_type": "stream",
     "text": [
      "20\n",
      "10\n"
     ]
    }
   ],
   "source": [
    "print(max(10, 20))\n",
    "print(min(10, 20))"
   ]
  },
  {
   "cell_type": "markdown",
   "id": "31a322ba",
   "metadata": {},
   "source": [
    "`round()` rounds a float to the nearest int."
   ]
  },
  {
   "cell_type": "code",
   "execution_count": 16,
   "id": "33df3ea4",
   "metadata": {},
   "outputs": [
    {
     "data": {
      "text/plain": [
       "1"
      ]
     },
     "execution_count": 16,
     "metadata": {},
     "output_type": "execute_result"
    }
   ],
   "source": [
    "round(1.3)"
   ]
  },
  {
   "cell_type": "markdown",
   "id": "710e6a61",
   "metadata": {},
   "source": [
    "## Math package\n",
    "\n",
    "The following functions need to be imported from the math module."
   ]
  },
  {
   "cell_type": "code",
   "execution_count": 18,
   "id": "797fcf45",
   "metadata": {},
   "outputs": [],
   "source": [
    "from math import *"
   ]
  },
  {
   "cell_type": "markdown",
   "id": "ba2c21f8",
   "metadata": {},
   "source": [
    "`ceil()` always rounds a float up to the nearest int."
   ]
  },
  {
   "cell_type": "code",
   "execution_count": 19,
   "id": "3082482f",
   "metadata": {},
   "outputs": [
    {
     "data": {
      "text/plain": [
       "4"
      ]
     },
     "execution_count": 19,
     "metadata": {},
     "output_type": "execute_result"
    }
   ],
   "source": [
    "ceil(3.2)"
   ]
  },
  {
   "cell_type": "markdown",
   "id": "93743012",
   "metadata": {},
   "source": [
    "`floor()` always rounds a float down."
   ]
  },
  {
   "cell_type": "code",
   "execution_count": 20,
   "id": "98c01eac",
   "metadata": {},
   "outputs": [
    {
     "data": {
      "text/plain": [
       "3"
      ]
     },
     "execution_count": 20,
     "metadata": {},
     "output_type": "execute_result"
    }
   ],
   "source": [
    "floor(3.7)"
   ]
  },
  {
   "cell_type": "markdown",
   "id": "64dd1a66",
   "metadata": {},
   "source": [
    "`sqrt()` returns the square root of a number as a float."
   ]
  },
  {
   "cell_type": "code",
   "execution_count": 22,
   "id": "921c825d",
   "metadata": {},
   "outputs": [
    {
     "data": {
      "text/plain": [
       "2.0"
      ]
     },
     "execution_count": 22,
     "metadata": {},
     "output_type": "execute_result"
    }
   ],
   "source": [
    "sqrt(4)"
   ]
  },
  {
   "cell_type": "markdown",
   "id": "957362d8",
   "metadata": {},
   "source": [
    "# Lists"
   ]
  },
  {
   "cell_type": "markdown",
   "id": "d3ddfd11",
   "metadata": {},
   "source": [
    "Brackets work the same as usual for indexing. Brackets can also use negative indexing to get the end of a list. Brackets can also be used to return subarrays, *[begin, end)*. If either is omitted, it means until limit."
   ]
  },
  {
   "cell_type": "code",
   "execution_count": 28,
   "id": "6da874b6",
   "metadata": {},
   "outputs": [
    {
     "data": {
      "text/plain": [
       "['banana', 'apple']"
      ]
     },
     "execution_count": 28,
     "metadata": {},
     "output_type": "execute_result"
    }
   ],
   "source": [
    "fruits = ['banana', 'apple', 'orange']\n",
    "fruits[:2]"
   ]
  },
  {
   "cell_type": "markdown",
   "id": "93fdc835",
   "metadata": {},
   "source": [
    "`.extend(list)` can append one list onto another"
   ]
  },
  {
   "cell_type": "code",
   "execution_count": 29,
   "id": "0bb36e0c",
   "metadata": {},
   "outputs": [
    {
     "name": "stdout",
     "output_type": "stream",
     "text": [
      "['banana', 'apple', 'orange', 'yellow', 'red', 'orange']\n"
     ]
    }
   ],
   "source": [
    "colors = ['yellow', 'red', 'orange']\n",
    "fruits.extend(colors)\n",
    "print(fruits)"
   ]
  },
  {
   "cell_type": "markdown",
   "id": "377c9566",
   "metadata": {},
   "source": [
    "`.append(item)` is used to add an item at the end."
   ]
  },
  {
   "cell_type": "code",
   "execution_count": 47,
   "id": "14e815f1",
   "metadata": {},
   "outputs": [
    {
     "name": "stdout",
     "output_type": "stream",
     "text": [
      "['banana', 'apple', 'orange', 'grapes']\n"
     ]
    }
   ],
   "source": [
    "fruits = ['banana', 'apple', 'orange']\n",
    "fruits.append('grapes')\n",
    "print(fruits)"
   ]
  },
  {
   "cell_type": "markdown",
   "id": "5bf05e90",
   "metadata": {},
   "source": [
    "`.insert(idx, item)` is used to insert an item at the specified index."
   ]
  },
  {
   "cell_type": "code",
   "execution_count": 48,
   "id": "908d3abd",
   "metadata": {},
   "outputs": [
    {
     "name": "stdout",
     "output_type": "stream",
     "text": [
      "['banana', 'pear', 'apple', 'orange', 'grapes']\n"
     ]
    }
   ],
   "source": [
    "fruits.insert(1, 'pear')\n",
    "print(fruits)"
   ]
  },
  {
   "cell_type": "markdown",
   "id": "175028b6",
   "metadata": {},
   "source": [
    "`.remove(item)` is used to remove an item from the list. If the element DNE, a `ValueError` is thrown."
   ]
  },
  {
   "cell_type": "code",
   "execution_count": 49,
   "id": "f7f84864",
   "metadata": {},
   "outputs": [
    {
     "name": "stdout",
     "output_type": "stream",
     "text": [
      "['banana', 'pear', 'apple', 'orange']\n"
     ]
    }
   ],
   "source": [
    "fruits.remove('grapes')\n",
    "print(fruits)"
   ]
  },
  {
   "cell_type": "markdown",
   "id": "e87944b8",
   "metadata": {},
   "source": [
    "`.pop()` removes the last item from the list and returns it."
   ]
  },
  {
   "cell_type": "code",
   "execution_count": 50,
   "id": "6f33497b",
   "metadata": {},
   "outputs": [
    {
     "data": {
      "text/plain": [
       "'orange'"
      ]
     },
     "execution_count": 50,
     "metadata": {},
     "output_type": "execute_result"
    }
   ],
   "source": [
    "fruits.pop()"
   ]
  },
  {
   "cell_type": "markdown",
   "id": "565b03d6",
   "metadata": {},
   "source": [
    "Similar to strings, `.index(item)` returns the index of the first occurence of *item* in the list. If the *item* isn't found, a `ValueError` is thrown."
   ]
  },
  {
   "cell_type": "code",
   "execution_count": 51,
   "id": "a0fc039f",
   "metadata": {},
   "outputs": [
    {
     "data": {
      "text/plain": [
       "0"
      ]
     },
     "execution_count": 51,
     "metadata": {},
     "output_type": "execute_result"
    }
   ],
   "source": [
    "fruits.index('banana')"
   ]
  },
  {
   "cell_type": "markdown",
   "id": "f2aa3870",
   "metadata": {},
   "source": [
    "`.count(item)` returns the number of times *item* appears in the list."
   ]
  },
  {
   "cell_type": "code",
   "execution_count": 52,
   "id": "6ba4171b",
   "metadata": {},
   "outputs": [
    {
     "data": {
      "text/plain": [
       "2"
      ]
     },
     "execution_count": 52,
     "metadata": {},
     "output_type": "execute_result"
    }
   ],
   "source": [
    "fruits.append('apple')\n",
    "fruits.count('apple')"
   ]
  },
  {
   "cell_type": "markdown",
   "id": "a04268ae",
   "metadata": {},
   "source": [
    "`.sort()` sorts the items of a list."
   ]
  },
  {
   "cell_type": "code",
   "execution_count": 54,
   "id": "2b833bd3",
   "metadata": {},
   "outputs": [
    {
     "name": "stdout",
     "output_type": "stream",
     "text": [
      "['apple', 'apple', 'banana', 'pear']\n"
     ]
    }
   ],
   "source": [
    "fruits.sort()\n",
    "print(fruits)"
   ]
  },
  {
   "cell_type": "markdown",
   "id": "1d1d2179",
   "metadata": {},
   "source": [
    "`.reverse()` reverses a list."
   ]
  },
  {
   "cell_type": "code",
   "execution_count": 56,
   "id": "57ee4534",
   "metadata": {},
   "outputs": [
    {
     "name": "stdout",
     "output_type": "stream",
     "text": [
      "['pear', 'banana', 'apple', 'apple']\n"
     ]
    }
   ],
   "source": [
    "fruits.reverse()\n",
    "print(fruits)"
   ]
  },
  {
   "cell_type": "markdown",
   "id": "15fc9cbb",
   "metadata": {},
   "source": [
    "Lists can be shallow copied with `.copy()` or deep copied with `.deepcopy()`."
   ]
  },
  {
   "cell_type": "code",
   "execution_count": 58,
   "id": "f0d29e00",
   "metadata": {},
   "outputs": [
    {
     "ename": "AttributeError",
     "evalue": "'list' object has no attribute 'deepcopy'",
     "output_type": "error",
     "traceback": [
      "\u001b[0;31m---------------------------------------------------------------------------\u001b[0m",
      "\u001b[0;31mAttributeError\u001b[0m                            Traceback (most recent call last)",
      "\u001b[0;32m/var/folders/wy/nm64py497jzfxz0kqf0ym71m0000gn/T/ipykernel_38642/3739084183.py\u001b[0m in \u001b[0;36m<module>\u001b[0;34m\u001b[0m\n\u001b[1;32m      1\u001b[0m \u001b[0mshallow\u001b[0m \u001b[0;34m=\u001b[0m \u001b[0mfruits\u001b[0m\u001b[0;34m.\u001b[0m\u001b[0mcopy\u001b[0m\u001b[0;34m(\u001b[0m\u001b[0;34m)\u001b[0m\u001b[0;34m\u001b[0m\u001b[0;34m\u001b[0m\u001b[0m\n\u001b[0;32m----> 2\u001b[0;31m \u001b[0mdeep\u001b[0m \u001b[0;34m=\u001b[0m \u001b[0mfruits\u001b[0m\u001b[0;34m.\u001b[0m\u001b[0mdeepcopy\u001b[0m\u001b[0;34m(\u001b[0m\u001b[0;34m)\u001b[0m\u001b[0;34m\u001b[0m\u001b[0;34m\u001b[0m\u001b[0m\n\u001b[0m",
      "\u001b[0;31mAttributeError\u001b[0m: 'list' object has no attribute 'deepcopy'"
     ]
    }
   ],
   "source": [
    "shallow = fruits.copy()\n",
    "deep = fruits.deepcopy()"
   ]
  },
  {
   "cell_type": "markdown",
   "id": "fd054cf9",
   "metadata": {},
   "source": [
    "`.clear()` empties and entire list."
   ]
  },
  {
   "cell_type": "code",
   "execution_count": 57,
   "id": "a5d8d93b",
   "metadata": {},
   "outputs": [
    {
     "name": "stdout",
     "output_type": "stream",
     "text": [
      "[]\n"
     ]
    }
   ],
   "source": [
    "fruits.clear()\n",
    "print(fruits)"
   ]
  },
  {
   "cell_type": "code",
   "execution_count": null,
   "id": "036c9253",
   "metadata": {},
   "outputs": [],
   "source": []
  }
 ],
 "metadata": {
  "kernelspec": {
   "display_name": "Python 3 (ipykernel)",
   "language": "python",
   "name": "python3"
  },
  "language_info": {
   "codemirror_mode": {
    "name": "ipython",
    "version": 3
   },
   "file_extension": ".py",
   "mimetype": "text/x-python",
   "name": "python",
   "nbconvert_exporter": "python",
   "pygments_lexer": "ipython3",
   "version": "3.9.6"
  }
 },
 "nbformat": 4,
 "nbformat_minor": 5
}
