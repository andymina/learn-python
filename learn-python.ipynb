{
 "cells": [
  {
   "cell_type": "markdown",
   "id": "fd99a27c",
   "metadata": {},
   "source": [
    "# Working with Strings\n",
    "\n",
    "`.index()` returns the index of the first occurence of the string passed. If the string isn't found, a `ValueError` is thrown."
   ]
  },
  {
   "cell_type": "code",
   "execution_count": 1,
   "id": "4a85f614",
   "metadata": {},
   "outputs": [
    {
     "data": {
      "text/plain": [
       "7"
      ]
     },
     "execution_count": 1,
     "metadata": {},
     "output_type": "execute_result"
    }
   ],
   "source": [
    "msg = 'Hello, world!'\n",
    "msg.index('w')"
   ]
  },
  {
   "cell_type": "markdown",
   "id": "d98f1e9c",
   "metadata": {},
   "source": [
    "Formatted strings work similar to template strings in ES6."
   ]
  },
  {
   "cell_type": "code",
   "execution_count": 2,
   "id": "7af808a4",
   "metadata": {},
   "outputs": [
    {
     "data": {
      "text/plain": [
       "'Hello, world!'"
      ]
     },
     "execution_count": 2,
     "metadata": {},
     "output_type": "execute_result"
    }
   ],
   "source": [
    "f'{msg}'"
   ]
  },
  {
   "cell_type": "markdown",
   "id": "674bd7f6",
   "metadata": {},
   "source": [
    "Brackets work the same as usual for indexing. Brackets can also use negative indexing to get the end of a list. Brackets can also be used to return substrings, *[begin, end)*. If either is omitted, it means until limit."
   ]
  },
  {
   "cell_type": "code",
   "execution_count": 3,
   "id": "d157e419",
   "metadata": {},
   "outputs": [
    {
     "name": "stdout",
     "output_type": "stream",
     "text": [
      "Hel\n",
      "Hello, world!\n",
      "!\n"
     ]
    }
   ],
   "source": [
    "print(msg[:3]) # beginning up until 3rd index\n",
    "print(msg[:]) # copies a whole string\n",
    "print(msg[-1]) # last character"
   ]
  },
  {
   "cell_type": "markdown",
   "id": "011a8cdb",
   "metadata": {},
   "source": [
    "# Working with Numbers\n",
    "\n",
    "`//` does integer division. Without it, we would get a float."
   ]
  },
  {
   "cell_type": "code",
   "execution_count": 4,
   "id": "fc60e9d9",
   "metadata": {},
   "outputs": [
    {
     "data": {
      "text/plain": [
       "2"
      ]
     },
     "execution_count": 4,
     "metadata": {},
     "output_type": "execute_result"
    }
   ],
   "source": [
    "12 // 5"
   ]
  },
  {
   "cell_type": "markdown",
   "id": "6a111c52",
   "metadata": {},
   "source": [
    "`**` does exponents and is faster than `pow()`."
   ]
  },
  {
   "cell_type": "code",
   "execution_count": 5,
   "id": "296e9d53",
   "metadata": {},
   "outputs": [
    {
     "data": {
      "text/plain": [
       "8"
      ]
     },
     "execution_count": 5,
     "metadata": {},
     "output_type": "execute_result"
    }
   ],
   "source": [
    "2**3"
   ]
  },
  {
   "cell_type": "markdown",
   "id": "145ec1ab",
   "metadata": {},
   "source": [
    "`abs()` gives the absolute value of a num."
   ]
  },
  {
   "cell_type": "code",
   "execution_count": 6,
   "id": "95411e0b",
   "metadata": {},
   "outputs": [
    {
     "data": {
      "text/plain": [
       "5"
      ]
     },
     "execution_count": 6,
     "metadata": {},
     "output_type": "execute_result"
    }
   ],
   "source": [
    "abs(-5)"
   ]
  },
  {
   "cell_type": "markdown",
   "id": "58a2aec3",
   "metadata": {},
   "source": [
    "`max(a, b)` returns the max of two numbers. `min(a, b)` returns the min."
   ]
  },
  {
   "cell_type": "code",
   "execution_count": 7,
   "id": "1f516839",
   "metadata": {},
   "outputs": [
    {
     "name": "stdout",
     "output_type": "stream",
     "text": [
      "20\n",
      "10\n"
     ]
    }
   ],
   "source": [
    "print(max(10, 20))\n",
    "print(min(10, 20))"
   ]
  },
  {
   "cell_type": "markdown",
   "id": "31a322ba",
   "metadata": {},
   "source": [
    "`round()` rounds a float to the nearest int."
   ]
  },
  {
   "cell_type": "code",
   "execution_count": 8,
   "id": "33df3ea4",
   "metadata": {},
   "outputs": [
    {
     "data": {
      "text/plain": [
       "1"
      ]
     },
     "execution_count": 8,
     "metadata": {},
     "output_type": "execute_result"
    }
   ],
   "source": [
    "round(1.3)"
   ]
  },
  {
   "cell_type": "markdown",
   "id": "710e6a61",
   "metadata": {},
   "source": [
    "## Math package\n",
    "\n",
    "The following functions need to be imported from the math module."
   ]
  },
  {
   "cell_type": "code",
   "execution_count": 9,
   "id": "797fcf45",
   "metadata": {},
   "outputs": [],
   "source": [
    "from math import *"
   ]
  },
  {
   "cell_type": "markdown",
   "id": "ba2c21f8",
   "metadata": {},
   "source": [
    "`ceil()` always rounds a float up to the nearest int."
   ]
  },
  {
   "cell_type": "code",
   "execution_count": 10,
   "id": "3082482f",
   "metadata": {},
   "outputs": [
    {
     "data": {
      "text/plain": [
       "4"
      ]
     },
     "execution_count": 10,
     "metadata": {},
     "output_type": "execute_result"
    }
   ],
   "source": [
    "ceil(3.2)"
   ]
  },
  {
   "cell_type": "markdown",
   "id": "93743012",
   "metadata": {},
   "source": [
    "`floor()` always rounds a float down."
   ]
  },
  {
   "cell_type": "code",
   "execution_count": 11,
   "id": "98c01eac",
   "metadata": {},
   "outputs": [
    {
     "data": {
      "text/plain": [
       "3"
      ]
     },
     "execution_count": 11,
     "metadata": {},
     "output_type": "execute_result"
    }
   ],
   "source": [
    "floor(3.7)"
   ]
  },
  {
   "cell_type": "markdown",
   "id": "64dd1a66",
   "metadata": {},
   "source": [
    "`sqrt()` returns the square root of a number as a float."
   ]
  },
  {
   "cell_type": "code",
   "execution_count": 12,
   "id": "921c825d",
   "metadata": {},
   "outputs": [
    {
     "data": {
      "text/plain": [
       "2.0"
      ]
     },
     "execution_count": 12,
     "metadata": {},
     "output_type": "execute_result"
    }
   ],
   "source": [
    "sqrt(4)"
   ]
  },
  {
   "cell_type": "markdown",
   "id": "d3ddfd11",
   "metadata": {},
   "source": [
    "# Lists\n",
    "\n",
    "Lists can be ordered, are mutable, and allow for duplicate elements.\n",
    "\n",
    "Brackets work the same as usual for indexing. Brackets can also use negative indexing to get the end of a list. Brackets can also be used to return subarrays, *[begin, end, step = 1)*. If either is omitted, it means until limit."
   ]
  },
  {
   "cell_type": "code",
   "execution_count": 57,
   "id": "6da874b6",
   "metadata": {},
   "outputs": [
    {
     "data": {
      "text/plain": [
       "['banana', 'apple']"
      ]
     },
     "execution_count": 57,
     "metadata": {},
     "output_type": "execute_result"
    }
   ],
   "source": [
    "fruits = ['banana', 'apple', 'orange']\n",
    "fruits[:2]"
   ]
  },
  {
   "cell_type": "markdown",
   "id": "1ee0595a",
   "metadata": {},
   "source": [
    "Brackets have an optional step index as well which decides which increment to use for indices."
   ]
  },
  {
   "cell_type": "code",
   "execution_count": 58,
   "id": "86bcf70f",
   "metadata": {},
   "outputs": [
    {
     "data": {
      "text/plain": [
       "['banana', 'orange']"
      ]
     },
     "execution_count": 58,
     "metadata": {},
     "output_type": "execute_result"
    }
   ],
   "source": [
    "fruits[::2]"
   ]
  },
  {
   "cell_type": "markdown",
   "id": "e9336009",
   "metadata": {},
   "source": [
    "To initialize a list, you can use list comprehension in various ways"
   ]
  },
  {
   "cell_type": "code",
   "execution_count": 59,
   "id": "a9287aa2",
   "metadata": {},
   "outputs": [
    {
     "name": "stdout",
     "output_type": "stream",
     "text": [
      "[0, 0, 0, 0, 0]\n"
     ]
    }
   ],
   "source": [
    "empty = [0] * 5\n",
    "print(empty)"
   ]
  },
  {
   "cell_type": "code",
   "execution_count": 63,
   "id": "c0bc8445",
   "metadata": {},
   "outputs": [
    {
     "name": "stdout",
     "output_type": "stream",
     "text": [
      "[1, 2, 3, 4, 5]\n",
      "[1, 4, 9, 16, 25]\n"
     ]
    }
   ],
   "source": [
    "numbers = [i for i in range(1,6)]\n",
    "print(numbers)\n",
    "\n",
    "squares = [x * x for x in numbers]\n",
    "print(squares)"
   ]
  },
  {
   "cell_type": "markdown",
   "id": "93fdc835",
   "metadata": {},
   "source": [
    "`.extend(list)` can append one list onto another. The `+` operator can also be used to achieve the same effect."
   ]
  },
  {
   "cell_type": "code",
   "execution_count": 55,
   "id": "0bb36e0c",
   "metadata": {},
   "outputs": [
    {
     "name": "stdout",
     "output_type": "stream",
     "text": [
      "['apple', 'apple', 'banana', 'pear', 'yellow', 'red', 'orange', 'yellow', 'red', 'orange', 'yellow', 'red', 'orange']\n",
      "['apple', 'apple', 'banana', 'pear', 'yellow', 'red', 'orange', 'yellow', 'red', 'orange', 'yellow', 'red', 'orange', 'green']\n"
     ]
    }
   ],
   "source": [
    "colors = ['yellow', 'red', 'orange']\n",
    "fruits.extend(colors)\n",
    "print(fruits)\n",
    "\n",
    "print(fruits + [\"green\"])"
   ]
  },
  {
   "cell_type": "markdown",
   "id": "377c9566",
   "metadata": {},
   "source": [
    "`.append(item)` is used to add an item at the end."
   ]
  },
  {
   "cell_type": "code",
   "execution_count": 43,
   "id": "14e815f1",
   "metadata": {},
   "outputs": [
    {
     "name": "stdout",
     "output_type": "stream",
     "text": [
      "['banana', 'apple', 'orange', 'grapes']\n"
     ]
    }
   ],
   "source": [
    "fruits = ['banana', 'apple', 'orange']\n",
    "fruits.append('grapes')\n",
    "print(fruits)"
   ]
  },
  {
   "cell_type": "markdown",
   "id": "5bf05e90",
   "metadata": {},
   "source": [
    "`.insert(idx, item)` is used to insert an item at the specified index."
   ]
  },
  {
   "cell_type": "code",
   "execution_count": 44,
   "id": "908d3abd",
   "metadata": {},
   "outputs": [
    {
     "name": "stdout",
     "output_type": "stream",
     "text": [
      "['banana', 'pear', 'apple', 'orange', 'grapes']\n"
     ]
    }
   ],
   "source": [
    "fruits.insert(1, 'pear')\n",
    "print(fruits)"
   ]
  },
  {
   "cell_type": "markdown",
   "id": "175028b6",
   "metadata": {},
   "source": [
    "`.remove(item)` is used to remove an item from the list. If the element DNE, a `ValueError` is thrown."
   ]
  },
  {
   "cell_type": "code",
   "execution_count": 45,
   "id": "f7f84864",
   "metadata": {},
   "outputs": [
    {
     "name": "stdout",
     "output_type": "stream",
     "text": [
      "['banana', 'pear', 'apple', 'orange']\n"
     ]
    }
   ],
   "source": [
    "fruits.remove('grapes')\n",
    "print(fruits)"
   ]
  },
  {
   "cell_type": "markdown",
   "id": "e87944b8",
   "metadata": {},
   "source": [
    "`.pop()` removes the last item from the list and returns it."
   ]
  },
  {
   "cell_type": "code",
   "execution_count": 46,
   "id": "6f33497b",
   "metadata": {},
   "outputs": [
    {
     "data": {
      "text/plain": [
       "'orange'"
      ]
     },
     "execution_count": 46,
     "metadata": {},
     "output_type": "execute_result"
    }
   ],
   "source": [
    "fruits.pop()"
   ]
  },
  {
   "cell_type": "markdown",
   "id": "565b03d6",
   "metadata": {},
   "source": [
    "Similar to strings, `.index(item)` returns the index of the first occurence of *item* in the list. If the *item* isn't found, a `ValueError` is thrown."
   ]
  },
  {
   "cell_type": "code",
   "execution_count": 47,
   "id": "a0fc039f",
   "metadata": {},
   "outputs": [
    {
     "data": {
      "text/plain": [
       "2"
      ]
     },
     "execution_count": 47,
     "metadata": {},
     "output_type": "execute_result"
    }
   ],
   "source": [
    "fruits.index('apple')"
   ]
  },
  {
   "cell_type": "markdown",
   "id": "3202cb7c",
   "metadata": {},
   "source": [
    "To check for an item in a list in a conditional you can use `if ... in`."
   ]
  },
  {
   "cell_type": "code",
   "execution_count": 48,
   "id": "4a9ff6e9",
   "metadata": {},
   "outputs": [
    {
     "name": "stdout",
     "output_type": "stream",
     "text": [
      "Apple is in the list.\n"
     ]
    }
   ],
   "source": [
    "if 'apple' in fruits:\n",
    "    print('Apple is in the list.')"
   ]
  },
  {
   "cell_type": "markdown",
   "id": "f2aa3870",
   "metadata": {},
   "source": [
    "`.count(item)` returns the number of times *item* appears in the list."
   ]
  },
  {
   "cell_type": "code",
   "execution_count": 49,
   "id": "6ba4171b",
   "metadata": {},
   "outputs": [
    {
     "data": {
      "text/plain": [
       "2"
      ]
     },
     "execution_count": 49,
     "metadata": {},
     "output_type": "execute_result"
    }
   ],
   "source": [
    "fruits.append('apple')\n",
    "fruits.count('apple')"
   ]
  },
  {
   "cell_type": "markdown",
   "id": "a04268ae",
   "metadata": {},
   "source": [
    "`.sort()` sorts the items of a list. It mutates the list. To avoid mutation and return a new list used the built-in `sorted()`."
   ]
  },
  {
   "cell_type": "code",
   "execution_count": 51,
   "id": "2b833bd3",
   "metadata": {},
   "outputs": [
    {
     "name": "stdout",
     "output_type": "stream",
     "text": [
      "['apple', 'apple', 'banana', 'pear']\n",
      "['apple', 'apple', 'banana', 'pear']\n"
     ]
    }
   ],
   "source": [
    "fruits.sort()\n",
    "print(fruits)\n",
    "\n",
    "fruits_copy = sorted(fruits)\n",
    "print(fruits_copy)"
   ]
  },
  {
   "cell_type": "markdown",
   "id": "1d1d2179",
   "metadata": {},
   "source": [
    "`.reverse()` reverses a list."
   ]
  },
  {
   "cell_type": "code",
   "execution_count": 22,
   "id": "57ee4534",
   "metadata": {},
   "outputs": [
    {
     "name": "stdout",
     "output_type": "stream",
     "text": [
      "['pear', 'banana', 'apple', 'apple']\n"
     ]
    }
   ],
   "source": [
    "fruits.reverse()\n",
    "print(fruits)"
   ]
  },
  {
   "cell_type": "markdown",
   "id": "15fc9cbb",
   "metadata": {},
   "source": [
    "Lists can be shallow copied with `.copy()`. They can also be deep copied with `.deepcopy()` from the `copy` module."
   ]
  },
  {
   "cell_type": "code",
   "execution_count": 23,
   "id": "f0d29e00",
   "metadata": {},
   "outputs": [],
   "source": [
    "import copy\n",
    "\n",
    "shallow = fruits.copy()\n",
    "deep = copy.deepcopy(fruits)"
   ]
  },
  {
   "cell_type": "markdown",
   "id": "fd054cf9",
   "metadata": {},
   "source": [
    "`.clear()` empties and entire list."
   ]
  },
  {
   "cell_type": "code",
   "execution_count": 24,
   "id": "a5d8d93b",
   "metadata": {},
   "outputs": [
    {
     "name": "stdout",
     "output_type": "stream",
     "text": [
      "[]\n"
     ]
    }
   ],
   "source": [
    "fruits.clear()\n",
    "print(fruits)"
   ]
  },
  {
   "cell_type": "markdown",
   "id": "f377a47c",
   "metadata": {},
   "source": [
    "# Tuples\n",
    "\n",
    "Tuples are immutable, allow duplicate elements, and remain in their inserted order. They are generally used for data that's not going to be changed. They are defined with `()`."
   ]
  },
  {
   "cell_type": "code",
   "execution_count": 66,
   "id": "b938655c",
   "metadata": {},
   "outputs": [
    {
     "name": "stdout",
     "output_type": "stream",
     "text": [
      "(3,)\n"
     ]
    }
   ],
   "source": [
    "coordinates = (3, 4, 5)\n",
    "print(coordinates[:1])"
   ]
  },
  {
   "cell_type": "markdown",
   "id": "1259293e",
   "metadata": {},
   "source": [
    "Tuples can be unpacked and even converted into a list with the `*` operator."
   ]
  },
  {
   "cell_type": "code",
   "execution_count": 68,
   "id": "a5eaf13e",
   "metadata": {},
   "outputs": [
    {
     "name": "stdout",
     "output_type": "stream",
     "text": [
      "Andy\n",
      "['Richard', 'Carmen']\n",
      "Mina\n"
     ]
    }
   ],
   "source": [
    "person = (\"Andy\", \"Richard\", \"Carmen\", \"Mina\")\n",
    "first, *middle, last = person\n",
    "\n",
    "print(first)\n",
    "print(middle)\n",
    "print(last)"
   ]
  },
  {
   "cell_type": "markdown",
   "id": "68292f98",
   "metadata": {},
   "source": [
    "Since tuples are immutable, they take up less memory than lists."
   ]
  },
  {
   "cell_type": "code",
   "execution_count": null,
   "id": "7b808925",
   "metadata": {},
   "outputs": [],
   "source": [
    "import sys\n",
    "nums_list = [1, 2, 3]\n",
    "nums_tup = (1, 2, 3)\n"
   ]
  },
  {
   "cell_type": "markdown",
   "id": "41a33e58",
   "metadata": {},
   "source": [
    "# Dictionaries\n",
    "\n",
    "Data structure with (key, value) pairs similar to a hash-map. They are defined with `{}`."
   ]
  },
  {
   "cell_type": "code",
   "execution_count": 26,
   "id": "b2fcfd27",
   "metadata": {},
   "outputs": [
    {
     "name": "stdout",
     "output_type": "stream",
     "text": [
      "{'Jan': 'January', 'Feb': 'February', 'Mar': 'March', 'Apr': 'April'}\n"
     ]
    }
   ],
   "source": [
    "months = {\n",
    "    \"Jan\": \"January\",\n",
    "    \"Feb\": \"February\",\n",
    "    \"Mar\": \"March\",\n",
    "    \"Apr\": \"April\"\n",
    "}\n",
    "print(months)"
   ]
  },
  {
   "cell_type": "markdown",
   "id": "dbb37751",
   "metadata": {},
   "source": [
    "# For loops\n",
    "\n",
    "For loops in Python are a lot more flexible than they are in other languages. They can be used as a `for ... in` loop for many things."
   ]
  },
  {
   "cell_type": "code",
   "execution_count": 27,
   "id": "a84427fb",
   "metadata": {},
   "outputs": [
    {
     "name": "stdout",
     "output_type": "stream",
     "text": [
      "A\n",
      "n\n",
      "d\n",
      "y\n",
      " \n",
      "M\n",
      "i\n",
      "n\n",
      "a\n"
     ]
    }
   ],
   "source": [
    "for char in \"Andy Mina\":\n",
    "    print(char)"
   ]
  },
  {
   "cell_type": "code",
   "execution_count": 28,
   "id": "825107a1",
   "metadata": {},
   "outputs": [
    {
     "name": "stdout",
     "output_type": "stream",
     "text": [
      "banana\n",
      "apple\n",
      "grapes\n"
     ]
    }
   ],
   "source": [
    "for fruits in [\"banana\", \"apple\", \"grapes\"]:\n",
    "    print(fruits)"
   ]
  },
  {
   "cell_type": "markdown",
   "id": "a7875eb7",
   "metadata": {},
   "source": [
    "The `range()` function can be used to generate a sequences of numbers to loop with. It takes three parameters: `range(start = 0, stop, step = 1)`. The integer passed as `stop` is not included in the range."
   ]
  },
  {
   "cell_type": "code",
   "execution_count": 29,
   "id": "93f00a96",
   "metadata": {},
   "outputs": [
    {
     "name": "stdout",
     "output_type": "stream",
     "text": [
      "0\n",
      "1\n",
      "2\n",
      "3\n",
      "4\n"
     ]
    }
   ],
   "source": [
    "for i in range(5):\n",
    "    print(i)"
   ]
  },
  {
   "cell_type": "markdown",
   "id": "83f7f781",
   "metadata": {},
   "source": [
    "# Try/Except Blocks\n",
    "\n",
    "Works similar to how it does in other languages. `except` statements can be chained together like a `switch` block to catch different errors."
   ]
  },
  {
   "cell_type": "code",
   "execution_count": 30,
   "id": "92ffea4d",
   "metadata": {},
   "outputs": [
    {
     "name": "stdout",
     "output_type": "stream",
     "text": [
      "Undefined\n"
     ]
    }
   ],
   "source": [
    "try:\n",
    "    value = 1/0\n",
    "    print(value)\n",
    "except ZeroDivisionError:\n",
    "    print('Undefined')"
   ]
  },
  {
   "cell_type": "markdown",
   "id": "8b03a80c",
   "metadata": {},
   "source": [
    "# File Streams\n",
    "\n",
    "Files can be opened with `open(path, option = \"r\")`. You can specify what to do with the open file by passing the correct option string:\n",
    "- \"r\": Read a file; errors if the file DNE\n",
    "- \"w\": Write to a file; creates the file if it DNE\n",
    "- \"r+\": Read and write a file; creates the file if it DNE\n",
    "- \"a\": Appends to a file; creates the file if it DNE\n",
    "- \"x\": Create a file; errors if the file exists already\n",
    "- \"t\": Parse the file as text\n",
    "- \"b\": Parse the file as binary\n",
    "\n",
    "Never forget to close the file with `.close()`."
   ]
  },
  {
   "cell_type": "code",
   "execution_count": 31,
   "id": "c9e61365",
   "metadata": {},
   "outputs": [],
   "source": [
    "sample = open('sample.txt')\n",
    "sample.close()"
   ]
  },
  {
   "cell_type": "markdown",
   "id": "8cb21d8f",
   "metadata": {},
   "source": [
    "Files can be read with `.read()` to read the whole file into a string or `.readline()` to only read one line. `.readline()` moves the cursor to the next line which affects subsequent read commands."
   ]
  },
  {
   "cell_type": "code",
   "execution_count": 32,
   "id": "181e4d76",
   "metadata": {},
   "outputs": [
    {
     "name": "stdout",
     "output_type": "stream",
     "text": [
      "Hi, my name is Andy Mina.\n",
      "\n",
      "My girlfriend's name is Sabina Kubayeva.\n",
      "Goodbye.\n",
      "Welcome back!\n",
      "\n"
     ]
    }
   ],
   "source": [
    "sample = open('sample.txt', \"r+\")\n",
    "\n",
    "single = sample.readline()\n",
    "whole = sample.read()\n",
    "\n",
    "print(single)\n",
    "print(whole)"
   ]
  },
  {
   "cell_type": "markdown",
   "id": "6b35e4b8",
   "metadata": {},
   "source": [
    "The cursor can be moved by using `.seek()` with one of three parameters:\n",
    "1. `0` which moves the pointer to the beginning of the file\n",
    "2. `1` which moves the pointer relative to the current position\n",
    "3. `2` which moves teh pointer to the end of the file"
   ]
  },
  {
   "cell_type": "code",
   "execution_count": 33,
   "id": "ecbb0c7f",
   "metadata": {},
   "outputs": [
    {
     "data": {
      "text/plain": [
       "0"
      ]
     },
     "execution_count": 33,
     "metadata": {},
     "output_type": "execute_result"
    }
   ],
   "source": [
    "sample.seek(0)"
   ]
  },
  {
   "cell_type": "markdown",
   "id": "4c7f3a32",
   "metadata": {},
   "source": [
    "`.readlines()` reads all of the lines into a list which can then be used in a `for ... in` loop."
   ]
  },
  {
   "cell_type": "code",
   "execution_count": 34,
   "id": "10def92d",
   "metadata": {},
   "outputs": [
    {
     "name": "stdout",
     "output_type": "stream",
     "text": [
      "['Hi, my name is Andy Mina.\\n', \"My girlfriend's name is Sabina Kubayeva.\\n\", 'Goodbye.\\n', 'Welcome back!\\n']\n"
     ]
    }
   ],
   "source": [
    "lines = sample.readlines()\n",
    "print(lines)"
   ]
  },
  {
   "cell_type": "markdown",
   "id": "d31637aa",
   "metadata": {},
   "source": [
    "`.write(line)` is used to add a line onto a file."
   ]
  },
  {
   "cell_type": "code",
   "execution_count": 35,
   "id": "4982d783",
   "metadata": {},
   "outputs": [
    {
     "data": {
      "text/plain": [
       "14"
      ]
     },
     "execution_count": 35,
     "metadata": {},
     "output_type": "execute_result"
    }
   ],
   "source": [
    "sample.write('Welcome back!\\n')"
   ]
  },
  {
   "cell_type": "markdown",
   "id": "30c92fc6",
   "metadata": {},
   "source": [
    "# Classes and Objects\n",
    "\n",
    "Classes inherit from parents classes by being passed as a parameter in the signature. Children classes do not need an `__init__` constructor."
   ]
  },
  {
   "cell_type": "code",
   "execution_count": 36,
   "id": "7c16e178",
   "metadata": {},
   "outputs": [
    {
     "name": "stdout",
     "output_type": "stream",
     "text": [
      "Bark!\n"
     ]
    }
   ],
   "source": [
    "class Animal:\n",
    "    def __init__(self):\n",
    "        self.planet = 'Earth'\n",
    "        \n",
    "    def eat(self):\n",
    "        print(f'I eat food on {self.planet}.')\n",
    "        \n",
    "class Dog(Animal):\n",
    "    def speak(self):\n",
    "        print('Bark!')\n",
    "        \n",
    "sunny = Dog()\n",
    "sunny.speak()"
   ]
  },
  {
   "cell_type": "code",
   "execution_count": null,
   "id": "dedab535",
   "metadata": {},
   "outputs": [],
   "source": []
  }
 ],
 "metadata": {
  "kernelspec": {
   "display_name": "Python 3 (ipykernel)",
   "language": "python",
   "name": "python3"
  },
  "language_info": {
   "codemirror_mode": {
    "name": "ipython",
    "version": 3
   },
   "file_extension": ".py",
   "mimetype": "text/x-python",
   "name": "python",
   "nbconvert_exporter": "python",
   "pygments_lexer": "ipython3",
   "version": "3.9.7"
  }
 },
 "nbformat": 4,
 "nbformat_minor": 5
}
